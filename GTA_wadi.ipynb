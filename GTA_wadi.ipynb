{
  "cells": [
    {
      "cell_type": "markdown",
      "metadata": {
        "id": "view-in-github",
        "colab_type": "text"
      },
      "source": [
        "<a href=\"https://colab.research.google.com/github/lekiho/GTA1/blob/main/GTA_wadi.ipynb\" target=\"_parent\"><img src=\"https://colab.research.google.com/assets/colab-badge.svg\" alt=\"Open In Colab\"/></a>"
      ]
    },
    {
      "cell_type": "code",
      "execution_count": null,
      "metadata": {
        "colab": {
          "base_uri": "https://localhost:8080/"
        },
        "id": "EGqEUA6klNXY",
        "outputId": "ea57a328-3f79-4d8a-a413-7bba65bafb65"
      },
      "outputs": [
        {
          "output_type": "stream",
          "name": "stdout",
          "text": [
            "Mounted at /content/drive\n"
          ]
        }
      ],
      "source": [
        "import os, sys\n",
        "from google.colab import drive\n",
        "drive.mount('/content/drive')\n",
        "my_path = '/content/notebooks'"
      ]
    },
    {
      "cell_type": "code",
      "execution_count": null,
      "metadata": {
        "id": "hl0AHXcduBwT"
      },
      "outputs": [],
      "source": [
        "import sys\n",
        "sys.path.append('/content/drive/MyDrive/Colab_Notebooks/GTA/myenv')\n",
        "sys.path.append('/content/drive/MyDrive/Colab_Notebooks/GTA')"
      ]
    },
    {
      "cell_type": "code",
      "execution_count": null,
      "metadata": {
        "colab": {
          "base_uri": "https://localhost:8080/"
        },
        "id": "FTaP27HwuV7I",
        "outputId": "dbd8017c-192d-465e-e26d-aa472afc8066"
      },
      "outputs": [
        {
          "name": "stdout",
          "output_type": "stream",
          "text": [
            "['', '/content', '/env/python', '/usr/lib/python37.zip', '/usr/lib/python3.7', '/usr/lib/python3.7/lib-dynload', '/usr/local/lib/python3.7/dist-packages', '/usr/lib/python3/dist-packages', '/usr/local/lib/python3.7/dist-packages/IPython/extensions', '/root/.ipython', '/content/drive/MyDrive/Colab_Notebooks/GTA/myenv', '/content/drive/MyDrive/Colab_Notebooks/GTA']\n"
          ]
        }
      ],
      "source": [
        "print(sys.path)"
      ]
    },
    {
      "cell_type": "code",
      "execution_count": null,
      "metadata": {
        "id": "PYVz02JHuZqu"
      },
      "outputs": [],
      "source": [
        "# !pip install --target=$my_path -r /content/drive/MyDrive/'Colab Notebooks'/GTA/requirements.txt"
      ]
    },
    {
      "cell_type": "code",
      "execution_count": null,
      "metadata": {
        "id": "QxphU9a1xGxG"
      },
      "outputs": [],
      "source": [
        "def down_cast(df, columns) :\n",
        "    df_list = []\n",
        "    for column in columns :\n",
        "        try:\n",
        "            df[column] = pd.to_numeric(df[column], downcast='integer')\n",
        "        except:\n",
        "            pass\n",
        "        try:\n",
        "            df[column] = pd.to_numeric(df[column], downcast='float')\n",
        "        except:\n",
        "            pass\n",
        "        try:\n",
        "            df[column] = pd.to_object(df[column], downcast='object')\n",
        "        except:\n",
        "            pass\n",
        "        df_list.append(df[column])\n",
        "    return pd.concat(df_list, axis=1)"
      ]
    },
    {
      "cell_type": "code",
      "execution_count": null,
      "metadata": {
        "id": "xBEckEMaxDT5"
      },
      "outputs": [],
      "source": [
        "import os\n",
        "\n",
        "import pandas as pd\n",
        "import numpy as np\n",
        "#downsampling\n",
        "from myenv import process_wadi\n",
        "import re\n",
        "from sklearn.preprocessing import MinMaxScaler"
      ]
    },
    {
      "cell_type": "code",
      "execution_count": null,
      "metadata": {
        "id": "eWLniihgvHlY"
      },
      "outputs": [],
      "source": [
        "dirpath = os.getcwd()\n",
        "x_train = pd.read_csv(os.path.join(dirpath, 'data', '/content/drive/MyDrive/Colab_Notebooks/GTA/data/WADI.A2_19_Nov_2019/WADI_14days_new.csv'), index_col=[0])"
      ]
    },
    {
      "cell_type": "code",
      "execution_count": null,
      "metadata": {
        "id": "P_lbxd9IxeeA"
      },
      "outputs": [],
      "source": [
        "x_test = pd.read_csv(os.path.join(dirpath, 'data', '/content/drive/MyDrive/Colab_Notebooks/GTA/data/WADI.A2_19_Nov_2019/WADI_attackdataLABLE.csv'), index_col=[0])"
      ]
    },
    {
      "cell_type": "code",
      "execution_count": null,
      "metadata": {
        "id": "XNUkpCH9xvPp"
      },
      "outputs": [],
      "source": [
        "down_cast(x_train, x_train.columns)\n",
        "down_cast(x_test, x_test.columns)"
      ]
    },
    {
      "cell_type": "code",
      "execution_count": null,
      "metadata": {
        "colab": {
          "base_uri": "https://localhost:8080/"
        },
        "id": "v8qLGRDE3s0t",
        "outputId": "47f4f2a6-7137-4758-f291-602a8d43a90c"
      },
      "outputs": [
        {
          "name": "stderr",
          "output_type": "stream",
          "text": [
            "/usr/local/lib/python3.7/dist-packages/ipykernel_launcher.py:2: PerformanceWarning: DataFrame is highly fragmented.  This is usually the result of calling `frame.insert` many times, which has poor performance.  Consider joining all columns at once using pd.concat(axis=1) instead.  To get a de-fragmented frame, use `newframe = frame.copy()`\n",
            "  \n"
          ]
        }
      ],
      "source": [
        "x_test['Attack LABLE (1:No Attack, -1:Attack)'] = (x_test['Attack LABLE (1:No Attack, -1:Attack)'] -1)*((-1)/2)\n",
        "x_test['attack'] = x_test['Attack LABLE (1:No Attack, -1:Attack)'].astype(int)\n",
        "y_test = x_test['attack']\n",
        "x_test.drop('Attack LABLE (1:No Attack, -1:Attack)', axis=1, inplace=True)"
      ]
    },
    {
      "cell_type": "code",
      "execution_count": null,
      "metadata": {
        "id": "uwBRDN-R72Dw"
      },
      "outputs": [],
      "source": [
        "# x_train.to_csv('/content/drive/MyDrive/Colab Notebooks/GTA/data/WADI.A2_19_Nov_2019/WADI_14days_train.csv')\n",
        "# x_test.to_csv('/content/drive/MyDrive/Colab Notebooks/GTA/data/WADI.A2_19_Nov_2019/WADI_attackdata_labelled_test.csv')"
      ]
    },
    {
      "cell_type": "markdown",
      "metadata": {
        "id": "kHm5ne5z-wvA"
      },
      "source": [
        "##### process_wadi"
      ]
    },
    {
      "cell_type": "code",
      "execution_count": null,
      "metadata": {
        "id": "ANz2_-TJ-uGt"
      },
      "outputs": [],
      "source": [
        "# max min(0-1)\n",
        "def norm(train, test):\n",
        "\n",
        "    normalizer = MinMaxScaler(feature_range=(0, 1)).fit(train) # scale training data to [0,1] range\n",
        "    train_ret = normalizer.transform(train)\n",
        "    test_ret = normalizer.transform(test)\n",
        "\n",
        "    return train_ret, test_ret"
      ]
    },
    {
      "cell_type": "code",
      "execution_count": null,
      "metadata": {
        "id": "1sidZVQy967_"
      },
      "outputs": [],
      "source": [
        "# downsample by 10\n",
        "def downsample(data, labels, down_len):\n",
        "    np_data = np.array(data)\n",
        "    np_labels = np.array(labels)\n",
        "\n",
        "    orig_len, col_num = np_data.shape\n",
        "\n",
        "    down_time_len = orig_len // down_len\n",
        "\n",
        "    np_data = np_data.transpose()\n",
        "    # print('before downsample', np_data.shape)\n",
        "\n",
        "    d_data = np_data[:, :down_time_len*down_len].reshape(col_num, -1, down_len)\n",
        "    d_data = np.median(d_data, axis=2).reshape(col_num, -1)\n",
        "\n",
        "    d_labels = np_labels[:down_time_len*down_len].reshape(-1, down_len)\n",
        "    # if exist anomalies, then this sample is abnormal\n",
        "    d_labels = np.round(np.max(d_labels, axis=1))\n",
        "\n",
        "    d_data = d_data.transpose()\n",
        "\n",
        "    # print('after downsample', d_data.shape, d_labels.shape)\n",
        "\n",
        "    return d_data.tolist(), d_labels.tolist()"
      ]
    },
    {
      "cell_type": "code",
      "execution_count": null,
      "metadata": {
        "id": "HPOynY9A-Q5A"
      },
      "outputs": [],
      "source": [
        "train = x_train\n",
        "test = x_test\n",
        "\n",
        "train = train.iloc[:, 2:]\n",
        "test = test.iloc[:, 2:]\n",
        "\n",
        "\n",
        "train = train.fillna(train.mean())\n",
        "test = test.fillna(test.mean())\n",
        "train = train.fillna(0)\n",
        "test = test.fillna(0)\n",
        "\n",
        "# trim column names\n",
        "train = train.rename(columns=lambda x: x.strip())\n",
        "test = test.rename(columns=lambda x: x.strip())\n",
        "\n",
        "\n",
        "train_labels = np.zeros(len(train))\n",
        "test_labels = test.attack\n",
        "\n",
        "# train = train.drop(columns=['attack'])\n",
        "test = test.drop(columns=['attack'])\n",
        "\n",
        "cols = [x[46:] for x in train.columns] # remove column name prefixes\n",
        "train.columns = cols\n",
        "cols = [x[46:] for x in test.columns] # remove column name prefixes\n",
        "test.columns = cols\n",
        "\n",
        "\n",
        "x_train1, x_test1 = norm(train.values, test.values)\n",
        "\n",
        "train = pd.DataFrame(x_train1)\n",
        "test = pd.DataFrame(x_test1)\n",
        "\n",
        "# for i, col in enumerate(train.columns):\n",
        "#     train.loc[:, col] = x_train1[:, i]\n",
        "#     test.loc[:, col] = x_test1[:, i]\n",
        "\n",
        "d_train_x, d_train_labels = downsample(train.values, train_labels, 10)\n",
        "d_test_x, d_test_labels = downsample(test.values, test_labels, 10)\n",
        "\n",
        "train_df = pd.DataFrame(d_train_x, columns = train.columns)\n",
        "test_df = pd.DataFrame(d_test_x, columns = test.columns)\n",
        "\n",
        "\n",
        "test_df['attack'] = d_test_labels\n",
        "train_df['attack'] = d_train_labels\n",
        "\n",
        "# train_df = train_df.iloc[2160:]"
      ]
    },
    {
      "cell_type": "code",
      "execution_count": null,
      "metadata": {
        "id": "YgnDFnNBeJEi"
      },
      "outputs": [],
      "source": [
        "train_df.to_csv('/content/drive/MyDrive/Colab_Notebooks/GTA/data/WADI.A2_19_Nov_2019/WADI_14days_downsampled.csv')"
      ]
    },
    {
      "cell_type": "markdown",
      "metadata": {
        "id": "n_H4f-VEIFW3"
      },
      "source": [
        "##### GTA"
      ]
    },
    {
      "cell_type": "code",
      "execution_count": 22,
      "metadata": {
        "id": "HESBW1yPm1Eo",
        "colab": {
          "base_uri": "https://localhost:8080/"
        },
        "outputId": "f857a904-1c64-4a1e-87ad-99f0380e867b"
      },
      "outputs": [
        {
          "output_type": "stream",
          "name": "stdout",
          "text": [
            "Looking in indexes: https://pypi.org/simple, https://us-python.pkg.dev/colab-wheels/public/simple/\n",
            "Looking in links: https://pytorch-geometric.com/whl/torch-1.11.0+cu113.html\n",
            "Collecting torch-scatter\n",
            "  Downloading https://data.pyg.org/whl/torch-1.11.0%2Bcu113/torch_scatter-2.0.9-cp37-cp37m-linux_x86_64.whl (7.9 MB)\n",
            "\u001b[K     |████████████████████████████████| 7.9 MB 14.7 MB/s \n",
            "\u001b[?25hInstalling collected packages: torch-scatter\n",
            "Successfully installed torch-scatter-2.0.9\n",
            "Looking in indexes: https://pypi.org/simple, https://us-python.pkg.dev/colab-wheels/public/simple/\n",
            "Looking in links: https://pytorch-geometric.com/whl/torch-1.11.0+cu113.html\n",
            "Collecting torch-sparse\n",
            "  Downloading https://data.pyg.org/whl/torch-1.11.0%2Bcu113/torch_sparse-0.6.13-cp37-cp37m-linux_x86_64.whl (3.5 MB)\n",
            "\u001b[K     |████████████████████████████████| 3.5 MB 14.9 MB/s \n",
            "\u001b[?25hRequirement already satisfied: scipy in /usr/local/lib/python3.7/dist-packages (from torch-sparse) (1.4.1)\n",
            "Requirement already satisfied: numpy>=1.13.3 in /usr/local/lib/python3.7/dist-packages (from scipy->torch-sparse) (1.21.6)\n",
            "Installing collected packages: torch-sparse\n",
            "Successfully installed torch-sparse-0.6.13\n",
            "Looking in indexes: https://pypi.org/simple, https://us-python.pkg.dev/colab-wheels/public/simple/\n",
            "Looking in links: https://pytorch-geometric.com/whl/torch-1.11.0+cu113.html\n",
            "Collecting torch-cluster\n",
            "  Downloading https://data.pyg.org/whl/torch-1.11.0%2Bcu113/torch_cluster-1.6.0-cp37-cp37m-linux_x86_64.whl (2.5 MB)\n",
            "\u001b[K     |████████████████████████████████| 2.5 MB 14.9 MB/s \n",
            "\u001b[?25hInstalling collected packages: torch-cluster\n",
            "Successfully installed torch-cluster-1.6.0\n",
            "Looking in indexes: https://pypi.org/simple, https://us-python.pkg.dev/colab-wheels/public/simple/\n",
            "Looking in links: https://pytorch-geometric.com/whl/torch-1.11.0+cu113.html\n",
            "Collecting torch-spline-conv\n",
            "  Downloading https://data.pyg.org/whl/torch-1.11.0%2Bcu113/torch_spline_conv-1.2.1-cp37-cp37m-linux_x86_64.whl (750 kB)\n",
            "\u001b[K     |████████████████████████████████| 750 kB 14.5 MB/s \n",
            "\u001b[?25hInstalling collected packages: torch-spline-conv\n",
            "Successfully installed torch-spline-conv-1.2.1\n",
            "Looking in indexes: https://pypi.org/simple, https://us-python.pkg.dev/colab-wheels/public/simple/\n",
            "Collecting torch-geometric\n",
            "  Downloading torch_geometric-2.0.4.tar.gz (407 kB)\n",
            "\u001b[K     |████████████████████████████████| 407 kB 15.7 MB/s \n",
            "\u001b[?25hRequirement already satisfied: tqdm in /usr/local/lib/python3.7/dist-packages (from torch-geometric) (4.64.0)\n",
            "Requirement already satisfied: numpy in /usr/local/lib/python3.7/dist-packages (from torch-geometric) (1.21.6)\n",
            "Requirement already satisfied: scipy in /usr/local/lib/python3.7/dist-packages (from torch-geometric) (1.4.1)\n",
            "Requirement already satisfied: pandas in /usr/local/lib/python3.7/dist-packages (from torch-geometric) (1.3.5)\n",
            "Requirement already satisfied: jinja2 in /usr/local/lib/python3.7/dist-packages (from torch-geometric) (2.11.3)\n",
            "Requirement already satisfied: requests in /usr/local/lib/python3.7/dist-packages (from torch-geometric) (2.23.0)\n",
            "Requirement already satisfied: pyparsing in /usr/local/lib/python3.7/dist-packages (from torch-geometric) (3.0.9)\n",
            "Requirement already satisfied: scikit-learn in /usr/local/lib/python3.7/dist-packages (from torch-geometric) (1.0.2)\n",
            "Requirement already satisfied: MarkupSafe>=0.23 in /usr/local/lib/python3.7/dist-packages (from jinja2->torch-geometric) (2.0.1)\n",
            "Requirement already satisfied: python-dateutil>=2.7.3 in /usr/local/lib/python3.7/dist-packages (from pandas->torch-geometric) (2.8.2)\n",
            "Requirement already satisfied: pytz>=2017.3 in /usr/local/lib/python3.7/dist-packages (from pandas->torch-geometric) (2022.1)\n",
            "Requirement already satisfied: six>=1.5 in /usr/local/lib/python3.7/dist-packages (from python-dateutil>=2.7.3->pandas->torch-geometric) (1.15.0)\n",
            "Requirement already satisfied: idna<3,>=2.5 in /usr/local/lib/python3.7/dist-packages (from requests->torch-geometric) (2.10)\n",
            "Requirement already satisfied: certifi>=2017.4.17 in /usr/local/lib/python3.7/dist-packages (from requests->torch-geometric) (2022.5.18.1)\n",
            "Requirement already satisfied: chardet<4,>=3.0.2 in /usr/local/lib/python3.7/dist-packages (from requests->torch-geometric) (3.0.4)\n",
            "Requirement already satisfied: urllib3!=1.25.0,!=1.25.1,<1.26,>=1.21.1 in /usr/local/lib/python3.7/dist-packages (from requests->torch-geometric) (1.24.3)\n",
            "Requirement already satisfied: threadpoolctl>=2.0.0 in /usr/local/lib/python3.7/dist-packages (from scikit-learn->torch-geometric) (3.1.0)\n",
            "Requirement already satisfied: joblib>=0.11 in /usr/local/lib/python3.7/dist-packages (from scikit-learn->torch-geometric) (1.1.0)\n",
            "Building wheels for collected packages: torch-geometric\n",
            "  Building wheel for torch-geometric (setup.py) ... \u001b[?25l\u001b[?25hdone\n",
            "  Created wheel for torch-geometric: filename=torch_geometric-2.0.4-py3-none-any.whl size=616603 sha256=0ff85f77288feae428f22239bd504682a8b780314059b7a9346aeaf0d34ee800\n",
            "  Stored in directory: /root/.cache/pip/wheels/18/a6/a4/ca18c3051fcead866fe7b85700ee2240d883562a1bc70ce421\n",
            "Successfully built torch-geometric\n",
            "Installing collected packages: torch-geometric\n",
            "Successfully installed torch-geometric-2.0.4\n"
          ]
        }
      ],
      "source": [
        "# Add this in a Google Colab cell to install the correct version of Pytorch Geometric.\n",
        "import torch\n",
        "\n",
        "def format_pytorch_version(version):\n",
        "  return version.split('+')[0]\n",
        "\n",
        "TORCH_version = torch.__version__\n",
        "TORCH = format_pytorch_version(TORCH_version)\n",
        "\n",
        "def format_cuda_version(version):\n",
        "  return 'cu' + version.replace('.', '')\n",
        "\n",
        "CUDA_version = torch.version.cuda\n",
        "CUDA = format_cuda_version(CUDA_version)\n",
        "\n",
        "!pip install torch-scatter     -f https://pytorch-geometric.com/whl/torch-{TORCH}+{CUDA}.html\n",
        "!pip install torch-sparse      -f https://pytorch-geometric.com/whl/torch-{TORCH}+{CUDA}.html\n",
        "!pip install torch-cluster     -f https://pytorch-geometric.com/whl/torch-{TORCH}+{CUDA}.html\n",
        "!pip install torch-spline-conv -f https://pytorch-geometric.com/whl/torch-{TORCH}+{CUDA}.html\n",
        "!pip install torch-geometric "
      ]
    },
    {
      "cell_type": "code",
      "execution_count": null,
      "metadata": {
        "colab": {
          "base_uri": "https://localhost:8080/"
        },
        "id": "4h5MHG-xdFB8",
        "outputId": "c79faa4c-11cc-4aea-9f4d-5f67c7bc276d"
      },
      "outputs": [
        {
          "output_type": "stream",
          "name": "stdout",
          "text": [
            "Drive already mounted at /content/drive; to attempt to forcibly remount, call drive.mount(\"/content/drive\", force_remount=True).\n"
          ]
        }
      ],
      "source": [
        "import os, sys\n",
        "from google.colab import drive\n",
        "drive.mount('/content/drive')\n",
        "my_path = '/content/notebooks'\n",
        "sys.path.append('/content/drive/MyDrive/Colab_Notebooks/GTA/myenv')\n",
        "sys.path.append('/content/drive/MyDrive/Colab_Notebooks/GTA')"
      ]
    },
    {
      "cell_type": "code",
      "execution_count": null,
      "metadata": {
        "id": "2OeMe3IRLzxq"
      },
      "outputs": [],
      "source": [
        "# ! pip install --target=$my_path -r /content/drive/MyDrive/Colab_Notebooks/GTA/requirements.txt"
      ]
    },
    {
      "cell_type": "code",
      "execution_count": null,
      "metadata": {
        "colab": {
          "base_uri": "https://localhost:8080/"
        },
        "id": "V4CSZpmvH9GQ",
        "outputId": "51a0569d-1540-4a50-86a3-91bec170e5a8"
      },
      "outputs": [
        {
          "output_type": "stream",
          "name": "stdout",
          "text": [
            "/content/drive/MyDrive/Colab_Notebooks/GTA\n"
          ]
        }
      ],
      "source": [
        "%cd /content/drive/MyDrive/Colab_Notebooks/GTA\n",
        "import myenv\n",
        "# from exp import exp_gta_dad\n",
        "# from models import gta"
      ]
    },
    {
      "cell_type": "code",
      "execution_count": null,
      "metadata": {
        "id": "MJ65patsMWL0"
      },
      "outputs": [],
      "source": [
        "import pandas as pd\n",
        "import numpy as np"
      ]
    },
    {
      "cell_type": "code",
      "execution_count": null,
      "metadata": {
        "id": "Yth35DeoMfHX"
      },
      "outputs": [],
      "source": [
        "x_train = pd.read_csv(os.path.join('data', '/content/drive/MyDrive/Colab_Notebooks/GTA/data/rename/WADI_14days_colab.csv'), index_col=[0])"
      ]
    },
    {
      "cell_type": "code",
      "execution_count": null,
      "metadata": {
        "id": "WH52CBqKmHZf"
      },
      "outputs": [],
      "source": [
        "# x_train['date'] = pd.to_datetime(x_train[['date','Time']].apply(lambda row:' '.join(row.values.astype(str)), axis=1))"
      ]
    },
    {
      "cell_type": "code",
      "execution_count": null,
      "metadata": {
        "id": "mygH80IBTfkt"
      },
      "outputs": [],
      "source": [
        "# x_train['date'] = pd.to_datetime(x_train['date'], format = '%y-%m-%d %H:%M:%S')"
      ]
    },
    {
      "cell_type": "code",
      "execution_count": null,
      "metadata": {
        "id": "5MYOQwzKJf22"
      },
      "outputs": [],
      "source": [
        "pd.DataFrame(x_train.isnull().sum())"
      ]
    },
    {
      "cell_type": "code",
      "execution_count": null,
      "metadata": {
        "id": "fADwldJhK_Bt"
      },
      "outputs": [],
      "source": [
        "x_train.drop(['2_LS_001_AL','2_LS_002_AL','2_P_001_STATUS','2_P_002_STATUS'], axis=1, inplace=True)"
      ]
    },
    {
      "cell_type": "code",
      "execution_count": null,
      "metadata": {
        "id": "cHwCg_g-LPEK"
      },
      "outputs": [],
      "source": [
        "x_train.dropna(axis=0,inplace=True)"
      ]
    },
    {
      "cell_type": "code",
      "execution_count": null,
      "metadata": {
        "id": "MEgwT5mgLaff"
      },
      "outputs": [],
      "source": [
        "x_train.reset_index(inplace=True,drop=True)"
      ]
    },
    {
      "cell_type": "code",
      "execution_count": null,
      "metadata": {
        "id": "RnEOigWuL99C"
      },
      "outputs": [],
      "source": [
        "pd.DataFrame(x_train.isnull().sum())"
      ]
    },
    {
      "cell_type": "code",
      "execution_count": null,
      "metadata": {
        "id": "6cPnB-d3pjIP"
      },
      "outputs": [],
      "source": [
        "# from datetime import datetime\n",
        "# import time\n",
        "# x_train['timestamp'] = x_train['date']\n",
        "# for i in range(len(x_train['date'])):\n",
        "#   x_train['timestamp'].iloc[i] = time.mktime(x_train['date'].iloc[i].timetuple())"
      ]
    },
    {
      "cell_type": "code",
      "execution_count": null,
      "metadata": {
        "id": "QKqJoBJ1NhAP"
      },
      "outputs": [],
      "source": [
        "# x_train.to_csv('/content/drive/MyDrive/Colab_Notebooks/GTA/data/rename/WADI_14days_colab.csv')"
      ]
    },
    {
      "cell_type": "code",
      "execution_count": 130,
      "metadata": {
        "id": "0Jh3_8E58QqV"
      },
      "outputs": [],
      "source": [
        "attack_data = pd.read_csv(os.path.join('data', '/content/drive/MyDrive/Colab_Notebooks/GTA/data/rename/WADI_attackdata_colab.csv'), index_col=[0])"
      ]
    },
    {
      "cell_type": "code",
      "execution_count": null,
      "metadata": {
        "id": "Pe32AcUVMcRB"
      },
      "outputs": [],
      "source": [
        "pd.DataFrame(attack_data.isnull().sum())"
      ]
    },
    {
      "cell_type": "code",
      "execution_count": null,
      "metadata": {
        "id": "9jfZCqHmMq7M"
      },
      "outputs": [],
      "source": [
        "attack_data.drop(['2_LS_001_AL','2_LS_002_AL','2_P_001_STATUS','2_P_002_STATUS'], axis=1, inplace=True)"
      ]
    },
    {
      "cell_type": "code",
      "execution_count": null,
      "metadata": {
        "id": "bBT4iJn-_31O"
      },
      "outputs": [],
      "source": [
        "attack_data.reset_index(inplace=True, drop=True)"
      ]
    },
    {
      "cell_type": "code",
      "execution_count": null,
      "metadata": {
        "id": "v7nVG4Gm_XoR"
      },
      "outputs": [],
      "source": [
        "# attack_data.drop([172801,172802], axis=0, inplace=True)"
      ]
    },
    {
      "cell_type": "code",
      "execution_count": null,
      "metadata": {
        "id": "HPes2pZl3gac"
      },
      "outputs": [],
      "source": [
        "# attack_data['Timestamp'] = pd.to_datetime(attack_data[['Date ', 'Time']].apply(lambda row:' '.join(row.values.astype(str)), axis=1))"
      ]
    },
    {
      "cell_type": "code",
      "execution_count": null,
      "metadata": {
        "id": "ZkZGZE6NCO8L"
      },
      "outputs": [],
      "source": [
        "# attack_data.drop(['Date ','Time'], axis=1, inplace = True)"
      ]
    },
    {
      "cell_type": "code",
      "execution_count": null,
      "metadata": {
        "id": "32Zfhc9oAllC"
      },
      "outputs": [],
      "source": [
        "# from datetime import datetime\n",
        "# import time\n",
        "# for i in range(len(attack_data['Timestamp'])):\n",
        "#   attack_data['Timestamp'].iloc[i] = time.mktime(attack_data['Timestamp'].iloc[i].timetuple())"
      ]
    },
    {
      "cell_type": "code",
      "execution_count": null,
      "metadata": {
        "id": "ByQZSCX-DQMV"
      },
      "outputs": [],
      "source": [
        "# attack_data['label'] = attack_data['Attack LABLE (1:No Attack, -1:Attack)']\n",
        "# attack_data.drop(['Attack LABLE (1:No Attack, -1:Attack)'], axis=1, inplace = True)"
      ]
    },
    {
      "cell_type": "code",
      "execution_count": null,
      "metadata": {
        "id": "gX6YBU74CkxE"
      },
      "outputs": [],
      "source": [
        "# attack_data.to_csv('/content/drive/MyDrive/Colab_Notebooks/GTA/data/rename/WADI_attackdata_colab.csv')"
      ]
    },
    {
      "cell_type": "code",
      "execution_count": null,
      "metadata": {
        "colab": {
          "base_uri": "https://localhost:8080/"
        },
        "id": "Ntj0mPY0EURu",
        "outputId": "b2aab1f5-0b2b-49c5-b3b6-0a58a8cbedda"
      },
      "outputs": [
        {
          "output_type": "stream",
          "name": "stdout",
          "text": [
            "/content/drive/MyDrive/Colab_Notebooks/GTA\n"
          ]
        }
      ],
      "source": [
        "%cd /content/drive/MyDrive/Colab_Notebooks/GTA"
      ]
    },
    {
      "cell_type": "code",
      "execution_count": null,
      "metadata": {
        "colab": {
          "base_uri": "https://localhost:8080/"
        },
        "id": "mxCnfFl7JEEv",
        "outputId": "7fd7079e-3443-49e8-86cd-3b9ad2b3b494"
      },
      "outputs": [
        {
          "output_type": "stream",
          "name": "stdout",
          "text": [
            "True\n",
            "Use GPU: cuda:0\n",
            ">>>>>>>start training : gta_WADI_ftM_sl60_ll30_pl1_nl3_dm124_nh8_el3_dl2_df124_atprob_ebfixed_test_0>>>>>>>>>>>>>>>>>>>>>>>>>>\n",
            "train 784477\n",
            "val 43140\n",
            "test 172741\n",
            "\titers: 100, epoch: 1 | loss: 12148.6167065\n",
            "\tspeed: 0.1949s/iter; left time: 4566.0963s\n",
            "\titers: 200, epoch: 1 | loss: 11994.8482236\n",
            "\tspeed: 0.1921s/iter; left time: 4483.0497s\n",
            "\titers: 300, epoch: 1 | loss: 11841.0826446\n",
            "\tspeed: 0.1919s/iter; left time: 4458.5808s\n",
            "\titers: 400, epoch: 1 | loss: 11687.3179089\n",
            "\tspeed: 0.1907s/iter; left time: 4412.5628s\n",
            "\titers: 500, epoch: 1 | loss: 11533.5552690\n",
            "\tspeed: 0.1909s/iter; left time: 4396.2788s\n",
            "\titers: 600, epoch: 1 | loss: 11379.7933792\n",
            "\tspeed: 0.1900s/iter; left time: 4356.4497s\n",
            "\titers: 700, epoch: 1 | loss: 11226.0312035\n",
            "\tspeed: 0.1922s/iter; left time: 4387.3917s\n",
            "\titers: 800, epoch: 1 | loss: 11072.2691530\n",
            "\tspeed: 0.1930s/iter; left time: 4388.2136s\n",
            "\titers: 900, epoch: 1 | loss: 10918.5079703\n",
            "\tspeed: 0.1953s/iter; left time: 4420.3225s\n",
            "\titers: 1000, epoch: 1 | loss: 10764.7472025\n",
            "\tspeed: 0.1942s/iter; left time: 4375.9138s\n",
            "\titers: 1100, epoch: 1 | loss: 10610.9876480\n",
            "\tspeed: 0.1935s/iter; left time: 4340.8006s\n",
            "\titers: 1200, epoch: 1 | loss: 10457.2264634\n",
            "\tspeed: 0.1919s/iter; left time: 4285.4129s\n",
            "\titers: 1300, epoch: 1 | loss: 10303.4660148\n",
            "\tspeed: 0.1918s/iter; left time: 4263.2922s\n",
            "\titers: 1400, epoch: 1 | loss: 10149.7051755\n",
            "\tspeed: 0.1924s/iter; left time: 4257.4359s\n",
            "\titers: 1500, epoch: 1 | loss: 9995.9454246\n",
            "\tspeed: 0.1909s/iter; left time: 4206.1641s\n",
            "\titers: 1600, epoch: 1 | loss: 9842.1844532\n",
            "\tspeed: 0.1905s/iter; left time: 4177.3441s\n",
            "\titers: 1700, epoch: 1 | loss: 9688.4239941\n",
            "\tspeed: 0.1912s/iter; left time: 4174.1070s\n",
            "\titers: 1800, epoch: 1 | loss: 9534.6636414\n",
            "\tspeed: 0.1911s/iter; left time: 4154.2487s\n",
            "\titers: 1900, epoch: 1 | loss: 9380.9034282\n",
            "\tspeed: 0.1921s/iter; left time: 4156.6068s\n",
            "\titers: 2000, epoch: 1 | loss: 9227.1432184\n",
            "\tspeed: 0.1950s/iter; left time: 4198.1887s\n",
            "\titers: 2100, epoch: 1 | loss: 9073.3822366\n",
            "\tspeed: 0.1959s/iter; left time: 4199.1524s\n",
            "\titers: 2200, epoch: 1 | loss: 8919.6226271\n",
            "\tspeed: 0.1914s/iter; left time: 4083.8763s\n",
            "\titers: 2300, epoch: 1 | loss: 8765.8623747\n",
            "\tspeed: 0.1900s/iter; left time: 4035.1534s\n",
            "\titers: 2400, epoch: 1 | loss: 8612.1023218\n",
            "\tspeed: 0.1902s/iter; left time: 4019.8025s\n",
            "\titers: 2500, epoch: 1 | loss: 8458.3416630\n",
            "\tspeed: 0.1908s/iter; left time: 4012.1713s\n",
            "\titers: 2600, epoch: 1 | loss: 8304.5818304\n",
            "\tspeed: 0.1905s/iter; left time: 3988.1536s\n",
            "\titers: 2700, epoch: 1 | loss: 8150.8213122\n",
            "\tspeed: 0.1916s/iter; left time: 3991.2453s\n",
            "\titers: 2800, epoch: 1 | loss: 7997.0613925\n",
            "\tspeed: 0.1913s/iter; left time: 3965.5001s\n",
            "\titers: 2900, epoch: 1 | loss: 7843.3011773\n",
            "\tspeed: 0.1941s/iter; left time: 4005.0498s\n",
            "\titers: 3000, epoch: 1 | loss: 7689.5408606\n",
            "\tspeed: 0.1937s/iter; left time: 3977.4978s\n",
            "\titers: 3100, epoch: 1 | loss: 7535.7809760\n",
            "\tspeed: 0.1944s/iter; left time: 3972.1612s\n",
            "\titers: 3200, epoch: 1 | loss: 7382.0206759\n",
            "\tspeed: 0.1909s/iter; left time: 3882.4852s\n",
            "\titers: 3300, epoch: 1 | loss: 7228.2608579\n",
            "\tspeed: 0.1912s/iter; left time: 3869.2684s\n",
            "\titers: 3400, epoch: 1 | loss: 7074.5002729\n",
            "\tspeed: 0.1918s/iter; left time: 3861.1219s\n",
            "\titers: 3500, epoch: 1 | loss: 6920.7402018\n",
            "\tspeed: 0.1919s/iter; left time: 3844.8583s\n",
            "\titers: 3600, epoch: 1 | loss: 6766.9802451\n",
            "\tspeed: 0.1917s/iter; left time: 3821.0410s\n",
            "\titers: 3700, epoch: 1 | loss: 6613.2201768\n",
            "\tspeed: 0.1902s/iter; left time: 3772.1091s\n",
            "\titers: 3800, epoch: 1 | loss: 6459.4598691\n",
            "\tspeed: 0.1909s/iter; left time: 3767.8679s\n",
            "\titers: 3900, epoch: 1 | loss: 6305.7001606\n",
            "\tspeed: 0.1918s/iter; left time: 3765.5386s\n",
            "Epoch: 1, Steps: 3922 | Train Loss: 9286.3457576 Vali Loss: 0.0220073 Test Loss: 0.0323871\n",
            "Validation loss decreased (inf --> 0.022007).  Saving model ...\n",
            "Updating learning rate to 0.0001\n",
            "\titers: 100, epoch: 2 | loss: 6118.1127337\n",
            "\tspeed: 0.9921s/iter; left time: 19357.5951s\n",
            "\titers: 200, epoch: 2 | loss: 5964.3529288\n",
            "\tspeed: 0.1906s/iter; left time: 3699.9844s\n",
            "\titers: 300, epoch: 2 | loss: 5810.5925292\n",
            "\tspeed: 0.1901s/iter; left time: 3671.4838s\n",
            "\titers: 400, epoch: 2 | loss: 5656.8323640\n",
            "\tspeed: 0.1926s/iter; left time: 3700.2658s\n",
            "\titers: 500, epoch: 2 | loss: 5503.0723202\n",
            "\tspeed: 0.1907s/iter; left time: 3645.0710s\n",
            "\titers: 600, epoch: 2 | loss: 5349.3124244\n",
            "\tspeed: 0.1915s/iter; left time: 3640.6011s\n",
            "\titers: 700, epoch: 2 | loss: 5195.5524172\n",
            "\tspeed: 0.1932s/iter; left time: 3652.7988s\n",
            "\titers: 800, epoch: 2 | loss: 5041.7921791\n",
            "\tspeed: 0.1952s/iter; left time: 3671.8467s\n",
            "\titers: 900, epoch: 2 | loss: 4888.0320264\n",
            "\tspeed: 0.1939s/iter; left time: 3627.1646s\n",
            "\titers: 1000, epoch: 2 | loss: 4734.2722859\n",
            "\tspeed: 0.1948s/iter; left time: 3626.0924s\n",
            "\titers: 1100, epoch: 2 | loss: 4580.5125247\n",
            "\tspeed: 0.1903s/iter; left time: 3523.1474s\n",
            "\titers: 1200, epoch: 2 | loss: 4426.7524460\n",
            "\tspeed: 0.1908s/iter; left time: 3513.3765s\n",
            "\titers: 1300, epoch: 2 | loss: 4272.9921234\n",
            "\tspeed: 0.1904s/iter; left time: 3486.4441s\n",
            "\titers: 1400, epoch: 2 | loss: 4119.2321730\n",
            "\tspeed: 0.1905s/iter; left time: 3468.8166s\n",
            "\titers: 1500, epoch: 2 | loss: 3965.4720055\n",
            "\tspeed: 0.1905s/iter; left time: 3450.3271s\n",
            "\titers: 1600, epoch: 2 | loss: 3811.7120072\n",
            "\tspeed: 0.1907s/iter; left time: 3434.9556s\n",
            "\titers: 1700, epoch: 2 | loss: 3657.9518922\n",
            "\tspeed: 0.1913s/iter; left time: 3425.6476s\n",
            "\titers: 1800, epoch: 2 | loss: 3504.1919807\n",
            "\tspeed: 0.1914s/iter; left time: 3409.3962s\n",
            "\titers: 1900, epoch: 2 | loss: 3350.4318375\n",
            "\tspeed: 0.1936s/iter; left time: 3428.5762s\n",
            "\titers: 2000, epoch: 2 | loss: 3196.6720740\n",
            "\tspeed: 0.1933s/iter; left time: 3403.3814s\n",
            "\titers: 2100, epoch: 2 | loss: 3042.9118380\n",
            "\tspeed: 0.1927s/iter; left time: 3373.7478s\n",
            "\titers: 2200, epoch: 2 | loss: 2889.1519052\n",
            "\tspeed: 0.1907s/iter; left time: 3319.8935s\n",
            "\titers: 2300, epoch: 2 | loss: 2735.3921627\n",
            "\tspeed: 0.1915s/iter; left time: 3315.5049s\n",
            "\titers: 2400, epoch: 2 | loss: 2581.6320461\n",
            "\tspeed: 0.1934s/iter; left time: 3328.8247s\n",
            "\titers: 2500, epoch: 2 | loss: 2427.8719259\n",
            "\tspeed: 0.1919s/iter; left time: 3284.0969s\n",
            "\titers: 2600, epoch: 2 | loss: 2274.1117957\n",
            "\tspeed: 0.1909s/iter; left time: 3247.1698s\n",
            "\titers: 2700, epoch: 2 | loss: 2120.3519627\n",
            "\tspeed: 0.1907s/iter; left time: 3224.9967s\n",
            "\titers: 2800, epoch: 2 | loss: 1966.5917412\n",
            "\tspeed: 0.1912s/iter; left time: 3214.6120s\n",
            "\titers: 2900, epoch: 2 | loss: 1812.8317878\n",
            "\tspeed: 0.1929s/iter; left time: 3223.8221s\n",
            "\titers: 3000, epoch: 2 | loss: 1659.0718589\n",
            "\tspeed: 0.1925s/iter; left time: 3197.1073s\n",
            "\titers: 3100, epoch: 2 | loss: 1505.3119082\n",
            "\tspeed: 0.1930s/iter; left time: 3185.8550s\n",
            "\titers: 3200, epoch: 2 | loss: 1351.5517578\n",
            "\tspeed: 0.1922s/iter; left time: 3154.8540s\n",
            "\titers: 3300, epoch: 2 | loss: 1197.7919153\n",
            "\tspeed: 0.1911s/iter; left time: 3117.6809s\n",
            "\titers: 3400, epoch: 2 | loss: 1044.0318943\n",
            "\tspeed: 0.1912s/iter; left time: 3099.7440s\n",
            "\titers: 3500, epoch: 2 | loss: 890.2719102\n",
            "\tspeed: 0.1915s/iter; left time: 3084.7219s\n",
            "\titers: 3600, epoch: 2 | loss: 736.5116277\n",
            "\tspeed: 0.1906s/iter; left time: 3051.5331s\n",
            "\titers: 3700, epoch: 2 | loss: 582.7516432\n",
            "\tspeed: 0.1914s/iter; left time: 3044.5720s\n",
            "\titers: 3800, epoch: 2 | loss: 428.9916339\n",
            "\tspeed: 0.1918s/iter; left time: 3032.9873s\n",
            "\titers: 3900, epoch: 2 | loss: 275.2319138\n",
            "\tspeed: 0.1912s/iter; left time: 3003.6052s\n",
            "Epoch: 2, Steps: 3922 | Train Loss: 3255.8696454 Vali Loss: 0.0199021 Test Loss: 0.0294179\n",
            "Validation loss decreased (0.022007 --> 0.019902).  Saving model ...\n",
            "Updating learning rate to 5e-05\n",
            "\titers: 100, epoch: 3 | loss: 163.7554754\n",
            "\tspeed: 0.9998s/iter; left time: 15585.7012s\n",
            "\titers: 200, epoch: 3 | loss: 86.8755490\n",
            "\tspeed: 0.1913s/iter; left time: 2962.6603s\n",
            "\titers: 300, epoch: 3 | loss: 9.9955040\n",
            "\tspeed: 0.1912s/iter; left time: 2942.7244s\n",
            "\titers: 400, epoch: 3 | loss: 0.0467948\n",
            "\tspeed: 0.1908s/iter; left time: 2917.6019s\n",
            "\titers: 500, epoch: 3 | loss: 0.3324639\n",
            "\tspeed: 0.1923s/iter; left time: 2921.2051s\n",
            "\titers: 600, epoch: 3 | loss: 0.3254762\n",
            "\tspeed: 0.1915s/iter; left time: 2890.2958s\n",
            "\titers: 700, epoch: 3 | loss: 0.0469710\n",
            "\tspeed: 0.1921s/iter; left time: 2879.3429s\n",
            "\titers: 800, epoch: 3 | loss: 0.3324811\n",
            "\tspeed: 0.1940s/iter; left time: 2888.4034s\n",
            "\titers: 900, epoch: 3 | loss: 0.3255700\n",
            "\tspeed: 0.1936s/iter; left time: 2862.4267s\n",
            "\titers: 1000, epoch: 3 | loss: 0.0468894\n",
            "\tspeed: 0.1937s/iter; left time: 2845.0314s\n",
            "\titers: 1100, epoch: 3 | loss: 0.3321861\n",
            "\tspeed: 0.1938s/iter; left time: 2827.1211s\n",
            "\titers: 1200, epoch: 3 | loss: 0.3253973\n",
            "\tspeed: 0.1910s/iter; left time: 2767.2942s\n",
            "\titers: 1300, epoch: 3 | loss: 0.0471338\n",
            "\tspeed: 0.1915s/iter; left time: 2754.8433s\n",
            "\titers: 1400, epoch: 3 | loss: 0.3323103\n",
            "\tspeed: 0.1910s/iter; left time: 2729.2725s\n",
            "\titers: 1500, epoch: 3 | loss: 0.3253219\n",
            "\tspeed: 0.1911s/iter; left time: 2711.4024s\n",
            "\titers: 1600, epoch: 3 | loss: 0.0471067\n",
            "\tspeed: 0.1912s/iter; left time: 2693.3781s\n",
            "\titers: 1700, epoch: 3 | loss: 0.3322834\n",
            "\tspeed: 0.1913s/iter; left time: 2675.7362s\n",
            "\titers: 1800, epoch: 3 | loss: 0.3253989\n",
            "\tspeed: 0.1917s/iter; left time: 2662.4794s\n",
            "\titers: 1900, epoch: 3 | loss: 0.0472052\n",
            "\tspeed: 0.1934s/iter; left time: 2667.0391s\n",
            "\titers: 2000, epoch: 3 | loss: 0.3324100\n",
            "\tspeed: 0.1944s/iter; left time: 2660.7786s\n",
            "\titers: 2100, epoch: 3 | loss: 0.3252909\n",
            "\tspeed: 0.1942s/iter; left time: 2639.0335s\n",
            "\titers: 2200, epoch: 3 | loss: 0.0468620\n",
            "\tspeed: 0.1927s/iter; left time: 2598.6894s\n",
            "\titers: 2300, epoch: 3 | loss: 0.3322785\n",
            "\tspeed: 0.1916s/iter; left time: 2565.4091s\n",
            "\titers: 2400, epoch: 3 | loss: 0.3254096\n",
            "\tspeed: 0.1909s/iter; left time: 2536.4915s\n",
            "\titers: 2500, epoch: 3 | loss: 0.0468590\n",
            "\tspeed: 0.1910s/iter; left time: 2518.7262s\n",
            "\titers: 2600, epoch: 3 | loss: 0.3322890\n",
            "\tspeed: 0.1909s/iter; left time: 2498.5786s\n",
            "\titers: 2700, epoch: 3 | loss: 0.3253111\n",
            "\tspeed: 0.1910s/iter; left time: 2481.1314s\n",
            "\titers: 2800, epoch: 3 | loss: 0.0469236\n",
            "\tspeed: 0.1915s/iter; left time: 2467.9572s\n",
            "\titers: 2900, epoch: 3 | loss: 0.3322216\n",
            "\tspeed: 0.1903s/iter; left time: 2434.1079s\n",
            "\titers: 3000, epoch: 3 | loss: 0.3251380\n",
            "\tspeed: 0.1955s/iter; left time: 2480.4503s\n",
            "\titers: 3100, epoch: 3 | loss: 0.0467868\n",
            "\tspeed: 0.1949s/iter; left time: 2453.9302s\n",
            "\titers: 3200, epoch: 3 | loss: 0.3323770\n",
            "\tspeed: 0.1938s/iter; left time: 2420.1672s\n",
            "\titers: 3300, epoch: 3 | loss: 0.3253567\n",
            "\tspeed: 0.1907s/iter; left time: 2362.1709s\n",
            "\titers: 3400, epoch: 3 | loss: 0.0467306\n",
            "\tspeed: 0.1907s/iter; left time: 2343.6692s\n",
            "\titers: 3500, epoch: 3 | loss: 0.3323902\n",
            "\tspeed: 0.1907s/iter; left time: 2324.5443s\n",
            "\titers: 3600, epoch: 3 | loss: 0.3253452\n",
            "\tspeed: 0.1916s/iter; left time: 2315.6669s\n",
            "\titers: 3700, epoch: 3 | loss: 0.0469448\n",
            "\tspeed: 0.1907s/iter; left time: 2285.8726s\n",
            "\titers: 3800, epoch: 3 | loss: 0.3323460\n",
            "\tspeed: 0.1920s/iter; left time: 2283.1993s\n",
            "\titers: 3900, epoch: 3 | loss: 0.3253655\n",
            "\tspeed: 0.1906s/iter; left time: 2246.6710s\n",
            "Epoch: 3, Steps: 3922 | Train Loss: 9.8071004 Vali Loss: 0.0196090 Test Loss: 0.0291708\n",
            "Validation loss decreased (0.019902 --> 0.019609).  Saving model ...\n",
            "Updating learning rate to 2.5e-05\n",
            "\titers: 100, epoch: 4 | loss: 0.0799938\n",
            "\tspeed: 0.9924s/iter; left time: 11578.0119s\n",
            "\titers: 200, epoch: 4 | loss: 0.0530394\n",
            "\tspeed: 0.1913s/iter; left time: 2213.1246s\n",
            "\titers: 300, epoch: 4 | loss: 0.0022020\n",
            "\tspeed: 0.1907s/iter; left time: 2186.6456s\n",
            "\titers: 400, epoch: 4 | loss: 0.0088362\n",
            "\tspeed: 0.1910s/iter; left time: 2171.6097s\n",
            "\titers: 500, epoch: 4 | loss: 0.1482183\n",
            "\tspeed: 0.1906s/iter; left time: 2147.9713s\n",
            "\titers: 600, epoch: 4 | loss: 0.0569494\n",
            "\tspeed: 0.1916s/iter; left time: 2140.0173s\n",
            "\titers: 700, epoch: 4 | loss: 0.0615354\n",
            "\tspeed: 0.1911s/iter; left time: 2115.1982s\n",
            "\titers: 800, epoch: 4 | loss: 0.0799908\n",
            "\tspeed: 0.1920s/iter; left time: 2105.1947s\n",
            "\titers: 900, epoch: 4 | loss: 0.0531314\n",
            "\tspeed: 0.1929s/iter; left time: 2096.1670s\n",
            "\titers: 1000, epoch: 4 | loss: 0.0017922\n",
            "\tspeed: 0.1948s/iter; left time: 2097.2566s\n",
            "\titers: 1100, epoch: 4 | loss: 0.0090794\n",
            "\tspeed: 0.1941s/iter; left time: 2070.4284s\n",
            "\titers: 1200, epoch: 4 | loss: 0.1482981\n",
            "\tspeed: 0.1914s/iter; left time: 2022.1679s\n",
            "\titers: 1300, epoch: 4 | loss: 0.0569083\n",
            "\tspeed: 0.1910s/iter; left time: 1999.4099s\n",
            "\titers: 1400, epoch: 4 | loss: 0.0616559\n",
            "\tspeed: 0.1903s/iter; left time: 1973.0095s\n",
            "\titers: 1500, epoch: 4 | loss: 0.0800490\n",
            "\tspeed: 0.1899s/iter; left time: 1949.6459s\n",
            "\titers: 1600, epoch: 4 | loss: 0.0530202\n",
            "\tspeed: 0.1903s/iter; left time: 1935.1639s\n",
            "\titers: 1700, epoch: 4 | loss: 0.0019162\n",
            "\tspeed: 0.1904s/iter; left time: 1916.2600s\n",
            "\titers: 1800, epoch: 4 | loss: 0.0089017\n",
            "\tspeed: 0.1905s/iter; left time: 1898.4178s\n",
            "\titers: 1900, epoch: 4 | loss: 0.1481804\n",
            "\tspeed: 0.1924s/iter; left time: 1897.9368s\n",
            "\titers: 2000, epoch: 4 | loss: 0.0569896\n",
            "\tspeed: 0.1924s/iter; left time: 1879.2820s\n",
            "\titers: 2100, epoch: 4 | loss: 0.0614714\n",
            "\tspeed: 0.1923s/iter; left time: 1858.9697s\n",
            "\titers: 2200, epoch: 4 | loss: 0.0801464\n",
            "\tspeed: 0.1936s/iter; left time: 1851.9471s\n",
            "\titers: 2300, epoch: 4 | loss: 0.0531608\n",
            "\tspeed: 0.1908s/iter; left time: 1806.6893s\n",
            "\titers: 2400, epoch: 4 | loss: 0.0019330\n",
            "\tspeed: 0.1914s/iter; left time: 1792.6825s\n",
            "\titers: 2500, epoch: 4 | loss: 0.0090106\n",
            "\tspeed: 0.1909s/iter; left time: 1768.8674s\n",
            "\titers: 2600, epoch: 4 | loss: 0.1485257\n",
            "\tspeed: 0.1912s/iter; left time: 1752.3350s\n",
            "\titers: 2700, epoch: 4 | loss: 0.0568153\n",
            "\tspeed: 0.1908s/iter; left time: 1730.0126s\n",
            "\titers: 2800, epoch: 4 | loss: 0.0613915\n",
            "\tspeed: 0.1902s/iter; left time: 1705.5401s\n",
            "\titers: 2900, epoch: 4 | loss: 0.0798901\n",
            "\tspeed: 0.1905s/iter; left time: 1689.0653s\n",
            "\titers: 3000, epoch: 4 | loss: 0.0530931\n",
            "\tspeed: 0.1912s/iter; left time: 1676.4390s\n",
            "\titers: 3100, epoch: 4 | loss: 0.0019054\n",
            "\tspeed: 0.1942s/iter; left time: 1683.2174s\n",
            "\titers: 3200, epoch: 4 | loss: 0.0088281\n",
            "\tspeed: 0.1931s/iter; left time: 1654.5912s\n",
            "\titers: 3300, epoch: 4 | loss: 0.1481523\n",
            "\tspeed: 0.1922s/iter; left time: 1627.6941s\n",
            "\titers: 3400, epoch: 4 | loss: 0.0569376\n",
            "\tspeed: 0.1900s/iter; left time: 1589.9219s\n",
            "\titers: 3500, epoch: 4 | loss: 0.0615028\n",
            "\tspeed: 0.1906s/iter; left time: 1575.2825s\n",
            "\titers: 3600, epoch: 4 | loss: 0.0800560\n",
            "\tspeed: 0.1905s/iter; left time: 1556.1150s\n",
            "\titers: 3700, epoch: 4 | loss: 0.0530133\n",
            "\tspeed: 0.1910s/iter; left time: 1540.6286s\n",
            "\titers: 3800, epoch: 4 | loss: 0.0019275\n",
            "\tspeed: 0.1906s/iter; left time: 1518.8159s\n",
            "\titers: 3900, epoch: 4 | loss: 0.0090682\n",
            "\tspeed: 0.1912s/iter; left time: 1504.3817s\n",
            "Epoch: 4, Steps: 3922 | Train Loss: 0.0630671 Vali Loss: 0.0194489 Test Loss: 0.0289346\n",
            "Validation loss decreased (0.019609 --> 0.019449).  Saving model ...\n",
            "Updating learning rate to 1.25e-05\n",
            "\titers: 100, epoch: 5 | loss: 0.0390721\n",
            "\tspeed: 0.9930s/iter; left time: 7690.6644s\n",
            "\titers: 200, epoch: 5 | loss: 0.0129346\n",
            "\tspeed: 0.1900s/iter; left time: 1452.7426s\n",
            "\titers: 300, epoch: 5 | loss: 0.0389439\n",
            "\tspeed: 0.1908s/iter; left time: 1439.8935s\n",
            "\titers: 400, epoch: 5 | loss: 0.0127162\n",
            "\tspeed: 0.1904s/iter; left time: 1417.3635s\n",
            "\titers: 500, epoch: 5 | loss: 0.0392162\n",
            "\tspeed: 0.1916s/iter; left time: 1407.5891s\n",
            "\titers: 600, epoch: 5 | loss: 0.0126726\n",
            "\tspeed: 0.1907s/iter; left time: 1381.3825s\n",
            "\titers: 700, epoch: 5 | loss: 0.0390344\n",
            "\tspeed: 0.1902s/iter; left time: 1358.9391s\n",
            "\titers: 800, epoch: 5 | loss: 0.0128665\n",
            "\tspeed: 0.1904s/iter; left time: 1341.5875s\n",
            "\titers: 900, epoch: 5 | loss: 0.0390128\n",
            "\tspeed: 0.1931s/iter; left time: 1341.3082s\n",
            "\titers: 1000, epoch: 5 | loss: 0.0127717\n",
            "\tspeed: 0.1935s/iter; left time: 1324.3410s\n",
            "\titers: 1100, epoch: 5 | loss: 0.0390291\n",
            "\tspeed: 0.1933s/iter; left time: 1303.6014s\n",
            "\titers: 1200, epoch: 5 | loss: 0.0127885\n",
            "\tspeed: 0.1946s/iter; left time: 1293.3112s\n",
            "\titers: 1300, epoch: 5 | loss: 0.0390996\n",
            "\tspeed: 0.1911s/iter; left time: 1251.0606s\n",
            "\titers: 1400, epoch: 5 | loss: 0.0129174\n",
            "\tspeed: 0.1910s/iter; left time: 1231.2973s\n",
            "\titers: 1500, epoch: 5 | loss: 0.0391456\n",
            "\tspeed: 0.1914s/iter; left time: 1214.3199s\n",
            "\titers: 1600, epoch: 5 | loss: 0.0127940\n",
            "\tspeed: 0.1906s/iter; left time: 1190.2991s\n",
            "\titers: 1700, epoch: 5 | loss: 0.0392304\n",
            "\tspeed: 0.1935s/iter; left time: 1188.7682s\n",
            "\titers: 1800, epoch: 5 | loss: 0.0126962\n",
            "\tspeed: 0.1915s/iter; left time: 1157.6176s\n",
            "\titers: 1900, epoch: 5 | loss: 0.0389343\n",
            "\tspeed: 0.1908s/iter; left time: 1134.0714s\n",
            "\titers: 2000, epoch: 5 | loss: 0.0126501\n",
            "\tspeed: 0.1929s/iter; left time: 1127.2951s\n",
            "\titers: 2100, epoch: 5 | loss: 0.0389210\n",
            "\tspeed: 0.1941s/iter; left time: 1115.0524s\n",
            "\titers: 2200, epoch: 5 | loss: 0.0125485\n",
            "\tspeed: 0.1944s/iter; left time: 1097.1974s\n",
            "\titers: 2300, epoch: 5 | loss: 0.0391261\n",
            "\tspeed: 0.1924s/iter; left time: 1067.0433s\n",
            "\titers: 2400, epoch: 5 | loss: 0.0126246\n",
            "\tspeed: 0.1902s/iter; left time: 1035.4668s\n",
            "\titers: 2500, epoch: 5 | loss: 0.0390168\n",
            "\tspeed: 0.1913s/iter; left time: 1022.3561s\n",
            "\titers: 2600, epoch: 5 | loss: 0.0129341\n",
            "\tspeed: 0.1908s/iter; left time: 1000.9685s\n",
            "\titers: 2700, epoch: 5 | loss: 0.0390282\n",
            "\tspeed: 0.1905s/iter; left time: 979.9645s\n",
            "\titers: 2800, epoch: 5 | loss: 0.0128009\n",
            "\tspeed: 0.1910s/iter; left time: 963.5151s\n",
            "\titers: 2900, epoch: 5 | loss: 0.0392020\n",
            "\tspeed: 0.1907s/iter; left time: 942.8214s\n",
            "\titers: 3000, epoch: 5 | loss: 0.0127840\n",
            "\tspeed: 0.1913s/iter; left time: 926.7077s\n",
            "\titers: 3100, epoch: 5 | loss: 0.0390872\n",
            "\tspeed: 0.1921s/iter; left time: 911.6237s\n",
            "\titers: 3200, epoch: 5 | loss: 0.0126447\n",
            "\tspeed: 0.1930s/iter; left time: 896.6125s\n",
            "\titers: 3300, epoch: 5 | loss: 0.0389398\n",
            "\tspeed: 0.1935s/iter; left time: 879.6793s\n",
            "\titers: 3400, epoch: 5 | loss: 0.0126319\n",
            "\tspeed: 0.1933s/iter; left time: 859.2209s\n",
            "\titers: 3500, epoch: 5 | loss: 0.0391825\n",
            "\tspeed: 0.1906s/iter; left time: 827.9610s\n",
            "\titers: 3600, epoch: 5 | loss: 0.0126783\n",
            "\tspeed: 0.1910s/iter; left time: 810.7815s\n",
            "\titers: 3700, epoch: 5 | loss: 0.0389249\n",
            "\tspeed: 0.1901s/iter; left time: 787.8303s\n",
            "\titers: 3800, epoch: 5 | loss: 0.0127509\n",
            "\tspeed: 0.1906s/iter; left time: 771.0852s\n",
            "\titers: 3900, epoch: 5 | loss: 0.0389232\n",
            "\tspeed: 0.1902s/iter; left time: 750.3513s\n",
            "Epoch: 5, Steps: 3922 | Train Loss: 0.0305822 Vali Loss: 0.0193707 Test Loss: 0.0287827\n",
            "Validation loss decreased (0.019449 --> 0.019371).  Saving model ...\n",
            "Updating learning rate to 6.25e-06\n",
            "\titers: 100, epoch: 6 | loss: 0.0252139\n",
            "\tspeed: 0.9934s/iter; left time: 3797.9044s\n",
            "\titers: 200, epoch: 6 | loss: 0.0138187\n",
            "\tspeed: 0.1929s/iter; left time: 718.0085s\n",
            "\titers: 300, epoch: 6 | loss: 0.0252999\n",
            "\tspeed: 0.1912s/iter; left time: 692.7645s\n",
            "\titers: 400, epoch: 6 | loss: 0.0137662\n",
            "\tspeed: 0.1908s/iter; left time: 672.1738s\n",
            "\titers: 500, epoch: 6 | loss: 0.0253014\n",
            "\tspeed: 0.1904s/iter; left time: 651.8066s\n",
            "\titers: 600, epoch: 6 | loss: 0.0136737\n",
            "\tspeed: 0.1905s/iter; left time: 633.0369s\n",
            "\titers: 700, epoch: 6 | loss: 0.0252253\n",
            "\tspeed: 0.1917s/iter; left time: 617.9245s\n",
            "\titers: 800, epoch: 6 | loss: 0.0136638\n",
            "\tspeed: 0.1902s/iter; left time: 593.9319s\n",
            "\titers: 900, epoch: 6 | loss: 0.0255920\n",
            "\tspeed: 0.1908s/iter; left time: 576.7561s\n",
            "\titers: 1000, epoch: 6 | loss: 0.0136586\n",
            "\tspeed: 0.1948s/iter; left time: 569.3803s\n",
            "\titers: 1100, epoch: 6 | loss: 0.0252533\n",
            "\tspeed: 0.1947s/iter; left time: 549.7452s\n",
            "\titers: 1200, epoch: 6 | loss: 0.0137210\n",
            "\tspeed: 0.1935s/iter; left time: 526.9931s\n",
            "\titers: 1300, epoch: 6 | loss: 0.0252711\n",
            "\tspeed: 0.1936s/iter; left time: 507.8864s\n",
            "\titers: 1400, epoch: 6 | loss: 0.0137589\n",
            "\tspeed: 0.1904s/iter; left time: 480.4312s\n",
            "\titers: 1500, epoch: 6 | loss: 0.0254581\n",
            "\tspeed: 0.1903s/iter; left time: 461.1769s\n",
            "\titers: 1600, epoch: 6 | loss: 0.0136326\n",
            "\tspeed: 0.1905s/iter; left time: 442.4276s\n",
            "\titers: 1700, epoch: 6 | loss: 0.0252943\n",
            "\tspeed: 0.1905s/iter; left time: 423.4132s\n",
            "\titers: 1800, epoch: 6 | loss: 0.0136007\n",
            "\tspeed: 0.1907s/iter; left time: 404.7889s\n",
            "\titers: 1900, epoch: 6 | loss: 0.0251429\n",
            "\tspeed: 0.1911s/iter; left time: 386.5326s\n",
            "\titers: 2000, epoch: 6 | loss: 0.0137909\n",
            "\tspeed: 0.1912s/iter; left time: 367.6444s\n",
            "\titers: 2100, epoch: 6 | loss: 0.0253803\n",
            "\tspeed: 0.1927s/iter; left time: 351.3828s\n",
            "\titers: 2200, epoch: 6 | loss: 0.0135822\n",
            "\tspeed: 0.1934s/iter; left time: 333.3080s\n",
            "\titers: 2300, epoch: 6 | loss: 0.0253744\n",
            "\tspeed: 0.1919s/iter; left time: 311.3808s\n",
            "\titers: 2400, epoch: 6 | loss: 0.0136777\n",
            "\tspeed: 0.1914s/iter; left time: 291.5151s\n",
            "\titers: 2500, epoch: 6 | loss: 0.0252862\n",
            "\tspeed: 0.1903s/iter; left time: 270.8253s\n",
            "\titers: 2600, epoch: 6 | loss: 0.0136008\n",
            "\tspeed: 0.1901s/iter; left time: 251.5451s\n",
            "\titers: 2700, epoch: 6 | loss: 0.0252010\n",
            "\tspeed: 0.1913s/iter; left time: 234.0078s\n",
            "\titers: 2800, epoch: 6 | loss: 0.0135906\n",
            "\tspeed: 0.1903s/iter; left time: 213.7402s\n",
            "\titers: 2900, epoch: 6 | loss: 0.0254012\n",
            "\tspeed: 0.1909s/iter; left time: 195.2572s\n",
            "\titers: 3000, epoch: 6 | loss: 0.0136793\n",
            "\tspeed: 0.1904s/iter; left time: 175.7340s\n",
            "\titers: 3100, epoch: 6 | loss: 0.0252477\n",
            "\tspeed: 0.1908s/iter; left time: 157.0296s\n",
            "\titers: 3200, epoch: 6 | loss: 0.0138067\n",
            "\tspeed: 0.1929s/iter; left time: 139.4780s\n",
            "\titers: 3300, epoch: 6 | loss: 0.0253242\n",
            "\tspeed: 0.1928s/iter; left time: 120.1011s\n",
            "\titers: 3400, epoch: 6 | loss: 0.0136073\n",
            "\tspeed: 0.1939s/iter; left time: 101.4141s\n",
            "\titers: 3500, epoch: 6 | loss: 0.0251972\n",
            "\tspeed: 0.1926s/iter; left time: 81.4901s\n",
            "\titers: 3600, epoch: 6 | loss: 0.0135478\n",
            "\tspeed: 0.1910s/iter; left time: 61.7003s\n",
            "\titers: 3700, epoch: 6 | loss: 0.0253462\n",
            "\tspeed: 0.1916s/iter; left time: 42.7158s\n",
            "\titers: 3800, epoch: 6 | loss: 0.0137496\n",
            "\tspeed: 0.1911s/iter; left time: 23.5040s\n",
            "\titers: 3900, epoch: 6 | loss: 0.0253424\n",
            "\tspeed: 0.1904s/iter; left time: 4.3787s\n",
            "Epoch: 6, Steps: 3922 | Train Loss: 0.0156108 Vali Loss: 0.0193339 Test Loss: 0.0287248\n",
            "Validation loss decreased (0.019371 --> 0.019334).  Saving model ...\n",
            "Updating learning rate to 3.125e-06\n",
            ">>>>>>>testing : gta_WADI_ftM_sl60_ll30_pl1_nl3_dm124_nh8_el3_dl2_df124_atprob_ebfixed_test_0<<<<<<<<<<<<<<<<<<<<<<<<<<<<<<<<<\n",
            "test 172741\n",
            "test shape: (863, 200, 1, 124) (863, 200, 1, 124)\n",
            "test shape: (172600, 1, 124) (172600, 1, 124)\n",
            "mse:0.0287282192952561, mae:0.08184476746503824\n",
            "Use GPU: cuda:0\n",
            ">>>>>>>start training : gta_WADI_ftM_sl60_ll30_pl1_nl3_dm124_nh8_el3_dl2_df124_atprob_ebfixed_test_1>>>>>>>>>>>>>>>>>>>>>>>>>>\n",
            "Traceback (most recent call last):\n",
            "  File \"/usr/local/lib/python3.7/dist-packages/pandas/core/dtypes/cast.py\", line 1309, in astype_array_safe\n",
            "    new_values = astype_array(values, dtype, copy=copy)\n",
            "  File \"/usr/local/lib/python3.7/dist-packages/pandas/core/dtypes/cast.py\", line 1254, in astype_array\n",
            "    values = values.astype(dtype, copy=copy)\n",
            "  File \"/usr/local/lib/python3.7/dist-packages/pandas/core/arrays/datetimes.py\", line 646, in astype\n",
            "    return dtl.DatetimeLikeArrayMixin.astype(self, dtype, copy)\n",
            "  File \"/usr/local/lib/python3.7/dist-packages/pandas/core/arrays/datetimelike.py\", line 389, in astype\n",
            "    return self._box_values(self.asi8.ravel()).reshape(self.shape)\n",
            "  File \"/usr/local/lib/python3.7/dist-packages/pandas/core/arrays/datetimelike.py\", line 268, in _box_values\n",
            "    return lib.map_infer(values, self._box_func, convert=False)\n",
            "  File \"pandas/_libs/lib.pyx\", line 2859, in pandas._libs.lib.map_infer\n",
            "  File \"/usr/local/lib/python3.7/dist-packages/pandas/core/arrays/datetimes.py\", line 512, in _box_func\n",
            "    ts = Timestamp(x, tz=self.tz)\n",
            "KeyboardInterrupt\n",
            "\n",
            "During handling of the above exception, another exception occurred:\n",
            "\n",
            "Traceback (most recent call last):\n",
            "  File \"main_gta_dad.py\", line 76, in <module>\n",
            "    exp.train(setting)\n",
            "  File \"/content/drive/MyDrive/Colab_Notebooks/GTA/exp/exp_gta_dad.py\", line 130, in train\n",
            "    train_data, train_loader = self._get_data(flag = 'train')\n",
            "  File \"/content/drive/MyDrive/Colab_Notebooks/GTA/exp/exp_gta_dad.py\", line 79, in _get_data\n",
            "    target=args.target\n",
            "  File \"/content/drive/MyDrive/Colab_Notebooks/GTA/data/data_loader_dad.py\", line 184, in __init__\n",
            "    self.__read_data__()\n",
            "  File \"/content/drive/MyDrive/Colab_Notebooks/GTA/data/data_loader_dad.py\", line 247, in __read_data__\n",
            "    df_stamp['day'] = df_stamp['Timestamp'].apply(lambda row:row.day,1)\n",
            "  File \"/usr/local/lib/python3.7/dist-packages/pandas/core/series.py\", line 4357, in apply\n",
            "    return SeriesApply(self, func, convert_dtype, args, kwargs).apply()\n",
            "  File \"/usr/local/lib/python3.7/dist-packages/pandas/core/apply.py\", line 1043, in apply\n",
            "    return self.apply_standard()\n",
            "  File \"/usr/local/lib/python3.7/dist-packages/pandas/core/apply.py\", line 1092, in apply_standard\n",
            "    values = obj.astype(object)._values\n",
            "  File \"/usr/local/lib/python3.7/dist-packages/pandas/core/generic.py\", line 5815, in astype\n",
            "    new_data = self._mgr.astype(dtype=dtype, copy=copy, errors=errors)\n",
            "  File \"/usr/local/lib/python3.7/dist-packages/pandas/core/internals/managers.py\", line 418, in astype\n",
            "    return self.apply(\"astype\", dtype=dtype, copy=copy, errors=errors)\n",
            "  File \"/usr/local/lib/python3.7/dist-packages/pandas/core/internals/managers.py\", line 327, in apply\n",
            "    applied = getattr(b, f)(**kwargs)\n",
            "  File \"/usr/local/lib/python3.7/dist-packages/pandas/core/internals/blocks.py\", line 591, in astype\n",
            "    new_values = astype_array_safe(values, dtype, copy=copy, errors=errors)\n",
            "  File \"/usr/local/lib/python3.7/dist-packages/pandas/core/dtypes/cast.py\", line 1309, in astype_array_safe\n",
            "    new_values = astype_array(values, dtype, copy=copy)\n",
            "KeyboardInterrupt\n"
          ]
        }
      ],
      "source": [
        "!python -u main_gta_dad.py --model gta --data WADI --root_path '/content/drive/MyDrive/Colab_Notebooks/GTA/data/rename' --data_path '/data/rename/WADI_14days_colab.csv'"
      ]
    },
    {
      "cell_type": "code",
      "execution_count": 225,
      "metadata": {
        "id": "QUlF6U7H0YyV"
      },
      "outputs": [],
      "source": [
        "import numpy as np\n",
        "import pandas as pd\n",
        "label = np.load('/content/drive/MyDrive/Colab_Notebooks/GTA/results/gta_WADI_ftM_sl60_ll30_pl1_nl3_dm124_nh8_el3_dl2_df124_atprob_ebfixed_test_0/label.npy')\n",
        "metrics = np.load('/content/drive/MyDrive/Colab_Notebooks/GTA/results/gta_WADI_ftM_sl60_ll30_pl1_nl3_dm124_nh8_el3_dl2_df124_atprob_ebfixed_test_0/metrics.npy')\n",
        "pred =  np.load('/content/drive/MyDrive/Colab_Notebooks/GTA/results/gta_WADI_ftM_sl60_ll30_pl1_nl3_dm124_nh8_el3_dl2_df124_atprob_ebfixed_test_0/pred.npy')\n",
        "true =  np.load('/content/drive/MyDrive/Colab_Notebooks/GTA/results/gta_WADI_ftM_sl60_ll30_pl1_nl3_dm124_nh8_el3_dl2_df124_atprob_ebfixed_test_0/true.npy')"
      ]
    },
    {
      "cell_type": "code",
      "source": [
        "import utils.spot as spot"
      ],
      "metadata": {
        "id": "-4c6-8cwyPSj"
      },
      "execution_count": 288,
      "outputs": []
    },
    {
      "cell_type": "code",
      "source": [
        "f = pred -true"
      ],
      "metadata": {
        "id": "YkzIV7ON2MCS"
      },
      "execution_count": 251,
      "outputs": []
    },
    {
      "cell_type": "code",
      "source": [
        "for i in range(len(f)):\n",
        "  f[i] = ((pred[i] -true[i])**2).sum()"
      ],
      "metadata": {
        "id": "hMR7xbb_1iVP"
      },
      "execution_count": 255,
      "outputs": []
    },
    {
      "cell_type": "code",
      "source": [
        "f = f.squeeze()\n",
        "# f = torch.from_numpy(f)\n",
        "mp = nn.MaxPool1d(124)\n",
        "f = mp(f)"
      ],
      "metadata": {
        "id": "XAHnD8em1zub"
      },
      "execution_count": 263,
      "outputs": []
    },
    {
      "cell_type": "code",
      "source": [
        "f = f.squeeze()"
      ],
      "metadata": {
        "id": "uzEvYxSr2bQ1"
      },
      "execution_count": 266,
      "outputs": []
    },
    {
      "cell_type": "code",
      "source": [
        "s = spot.SPOT()"
      ],
      "metadata": {
        "id": "ErhV1p5ZzbD1"
      },
      "execution_count": 302,
      "outputs": []
    },
    {
      "cell_type": "code",
      "source": [
        "s.fit(f[:1000], f[1000:])"
      ],
      "metadata": {
        "id": "pjdB3OhE4FpC"
      },
      "execution_count": 303,
      "outputs": []
    },
    {
      "cell_type": "code",
      "source": [
        "s.initialize()"
      ],
      "metadata": {
        "colab": {
          "base_uri": "https://localhost:8080/"
        },
        "id": "di6VQg5P5DnM",
        "outputId": "fb52a1c6-4dc2-4ee6-ebe8-34d3fbcf58df"
      },
      "execution_count": 304,
      "outputs": [
        {
          "output_type": "stream",
          "name": "stdout",
          "text": [
            "Initial threshold : 2.889427731608381\n",
            "Number of peaks : 19\n",
            "Grimshaw maximum log-likelihood estimation ... [done]\n",
            "\tγ = 0\n",
            "\tσ = 0.442265015342376\n",
            "\tL = 3.4989261071700293\n",
            "Extreme quantile (probability = 0.0001): 5.210002913384255\n"
          ]
        }
      ]
    },
    {
      "cell_type": "code",
      "source": [
        "f"
      ],
      "metadata": {
        "colab": {
          "base_uri": "https://localhost:8080/"
        },
        "id": "-8TeuMCcEA7O",
        "outputId": "4678ece3-914c-42f4-9031-6d3f17447f01"
      },
      "execution_count": 349,
      "outputs": [
        {
          "output_type": "execute_result",
          "data": {
            "text/plain": [
              "array([2.24127476, 2.24085309, 2.32034758, ..., 4.18156693, 4.1226509 ,\n",
              "       4.11103465])"
            ]
          },
          "metadata": {},
          "execution_count": 349
        }
      ]
    },
    {
      "cell_type": "code",
      "source": [
        "f1 = np.where(f > 4.4, -1 , 1)"
      ],
      "metadata": {
        "id": "7Pu1d33E5DiU"
      },
      "execution_count": 395,
      "outputs": []
    },
    {
      "cell_type": "code",
      "source": [
        "f2 = np.append(f1, np.ones(201))"
      ],
      "metadata": {
        "id": "OzEVwWbD7I_y"
      },
      "execution_count": 396,
      "outputs": []
    },
    {
      "cell_type": "code",
      "source": [
        "pd.DataFrame(f2).value_counts()"
      ],
      "metadata": {
        "colab": {
          "base_uri": "https://localhost:8080/"
        },
        "id": "zRstPzdvEhqF",
        "outputId": "b8783f27-9fea-4233-883f-2f5ba69e551f"
      },
      "execution_count": 397,
      "outputs": [
        {
          "output_type": "execute_result",
          "data": {
            "text/plain": [
              " 1.0    124225\n",
              "-1.0     48576\n",
              "dtype: int64"
            ]
          },
          "metadata": {},
          "execution_count": 397
        }
      ]
    },
    {
      "cell_type": "code",
      "source": [
        "from sklearn.metrics import precision_score, recall_score, f1_score, accuracy_score, confusion_matrix\n",
        "print(f1_score(attack_data['label'], f2))\n",
        "print(recall_score(attack_data['label'], f2))\n",
        "print(confusion_matrix(attack_data['label'], f2))"
      ],
      "metadata": {
        "colab": {
          "base_uri": "https://localhost:8080/"
        },
        "id": "J65sSL_0DdIS",
        "outputId": "43fc3d6e-b06b-485c-c7c4-8cf7300c6948"
      },
      "execution_count": 398,
      "outputs": [
        {
          "output_type": "stream",
          "name": "stdout",
          "text": [
            "0.8150942870381014\n",
            "0.7184813049673267\n",
            "[[  2738   7239]\n",
            " [ 45838 116986]]\n"
          ]
        }
      ]
    },
    {
      "cell_type": "code",
      "source": [
        "pd.DataFrame(f2).to_csv( '/content/drive/MyDrive/Colab_Notebooks/GTA/results/wadi_gta_se.csv')"
      ],
      "metadata": {
        "id": "WCUgnAFz7F1m"
      },
      "execution_count": 401,
      "outputs": []
    },
    {
      "cell_type": "code",
      "source": [
        "pd.DataFrame(f2).value_counts()"
      ],
      "metadata": {
        "colab": {
          "base_uri": "https://localhost:8080/"
        },
        "id": "kunvmxtfFWf5",
        "outputId": "022b8485-1d21-4944-eaba-b9e120086b0c"
      },
      "execution_count": 400,
      "outputs": [
        {
          "output_type": "execute_result",
          "data": {
            "text/plain": [
              " 1.0    124225\n",
              "-1.0     48576\n",
              "dtype: int64"
            ]
          },
          "metadata": {},
          "execution_count": 400
        }
      ]
    },
    {
      "cell_type": "code",
      "source": [
        "attack_data['label'].value_counts()"
      ],
      "metadata": {
        "colab": {
          "base_uri": "https://localhost:8080/"
        },
        "id": "yNA7nYv2iL-n",
        "outputId": "19681756-2f2e-4727-faa1-259535768b29"
      },
      "execution_count": null,
      "outputs": [
        {
          "output_type": "execute_result",
          "data": {
            "text/plain": [
              " 1    162824\n",
              "-1      9977\n",
              "Name: label, dtype: int64"
            ]
          },
          "metadata": {},
          "execution_count": 91
        }
      ]
    },
    {
      "cell_type": "code",
      "source": [
        "from sklearn.metrics import precision_score, recall_score, f1_score, accuracy_score, confusion_matrix\n",
        "print(f1_score(attack_data['label'], label))\n",
        "print(recall_score(attack_data['label'], label))\n",
        "print(confusion_matrix(attack_data['label'], label))"
      ],
      "metadata": {
        "colab": {
          "base_uri": "https://localhost:8080/"
        },
        "id": "vLGiIRXKcJqW",
        "outputId": "d3d73138-19f5-45a6-84ca-7cd113d5e342"
      },
      "execution_count": null,
      "outputs": [
        {
          "output_type": "stream",
          "name": "stdout",
          "text": [
            "0.9948410553726723\n",
            "0.9948410553726723\n",
            "[[  9137    840]\n",
            " [   840 161984]]\n"
          ]
        }
      ]
    },
    {
      "cell_type": "code",
      "source": [
        "mis = len(attack_data['label']) - len(label)"
      ],
      "metadata": {
        "id": "FaBkHM435mw2"
      },
      "execution_count": null,
      "outputs": []
    },
    {
      "cell_type": "code",
      "source": [
        "label = np.append(label, np.ones(201))"
      ],
      "metadata": {
        "id": "Bf-tg9_770AC"
      },
      "execution_count": null,
      "outputs": []
    },
    {
      "cell_type": "code",
      "source": [
        " len(attack_data['label'])"
      ],
      "metadata": {
        "colab": {
          "base_uri": "https://localhost:8080/"
        },
        "id": "itPE8H0F8X7x",
        "outputId": "2fd4d7cc-37f4-47c6-8243-56b1f70290aa"
      },
      "execution_count": null,
      "outputs": [
        {
          "output_type": "execute_result",
          "data": {
            "text/plain": [
              "172801"
            ]
          },
          "metadata": {},
          "execution_count": 49
        }
      ]
    },
    {
      "cell_type": "code",
      "source": [
        "wadi_pred = np.load('/content/drive/MyDrive/Colab_Notebooks/GTA/results/gta_WADI_ftM_sl60_ll30_pl1_nl3_dm124_nh8_el3_dl2_df124_atprob_ebfixed_test_0/pred.npy')\n",
        "wadi_true = np.load('/content/drive/MyDrive/Colab_Notebooks/GTA/results/gta_WADI_ftM_sl60_ll30_pl1_nl3_dm124_nh8_el3_dl2_df124_atprob_ebfixed_test_0/true.npy')"
      ],
      "metadata": {
        "id": "QDQeeiu9dDnh"
      },
      "execution_count": 84,
      "outputs": []
    },
    {
      "cell_type": "code",
      "source": [
        "import torch.nn as nn\n",
        "wadi_pred = wadi_pred.squeeze()\n",
        "wadi_true = wadi_true.squeeze()"
      ],
      "metadata": {
        "id": "Lq2oTC_TdDlZ"
      },
      "execution_count": 85,
      "outputs": []
    },
    {
      "cell_type": "code",
      "source": [
        "wadi_pred = torch.from_numpy(wadi_pred)\n",
        "wadi_true = torch.from_numpy(wadi_true)\n",
        "\n",
        "# maxpool = nn.MaxPool1d(124)\n",
        "# pred_mp = maxpool(wadi_pred)\n",
        "# true_mp = maxpool(wadi_true)"
      ],
      "metadata": {
        "id": "tPQU_gdsdDid"
      },
      "execution_count": 202,
      "outputs": []
    },
    {
      "cell_type": "code",
      "source": [
        "from sklearn.metrics import mean_squared_error \n",
        "mse1 = wadi_true\n",
        "for i in range(len(wadi_true)):\n",
        "  mse1[i] = mean_squared_error(wadi_true[i], wadi_pred[i])"
      ],
      "metadata": {
        "id": "FIKrWvnUi_Aa"
      },
      "execution_count": 224,
      "outputs": []
    },
    {
      "cell_type": "code",
      "source": [
        "# pd.DataFrame(label).to_csv('/content/drive/MyDrive/Colab_Notebooks/GTA/results/wadi_gta.csv')"
      ],
      "metadata": {
        "id": "uVZQ46X-8UEt"
      },
      "execution_count": null,
      "outputs": []
    },
    {
      "cell_type": "markdown",
      "source": [
        "----\n",
        "### SWAT"
      ],
      "metadata": {
        "id": "J9pPOCmz9F3a"
      }
    },
    {
      "cell_type": "code",
      "source": [
        "import os, sys\n",
        "from google.colab import drive\n",
        "drive.mount('/content/drive')\n",
        "my_path = '/content/notebooks'\n",
        "sys.path.append('/content/drive/MyDrive/Colab_Notebooks/GTA/myenv')\n",
        "sys.path.append('/content/drive/MyDrive/Colab_Notebooks/GTA')"
      ],
      "metadata": {
        "id": "3f8J2Vbx9H-y",
        "colab": {
          "base_uri": "https://localhost:8080/"
        },
        "outputId": "fc65548b-f416-4564-b8e6-819b91c3e747"
      },
      "execution_count": 1,
      "outputs": [
        {
          "output_type": "stream",
          "name": "stdout",
          "text": [
            "Drive already mounted at /content/drive; to attempt to forcibly remount, call drive.mount(\"/content/drive\", force_remount=True).\n"
          ]
        }
      ]
    },
    {
      "cell_type": "code",
      "source": [
        "import pandas as pd\n",
        "import numpy as np\n",
        "train = pd.read_csv('/content/drive/MyDrive/Colab_Notebooks/GTA/data/SWAT/SWaT_Dataset_Normal_v1_0.csv')\n",
        "attack_data = pd.read_csv('/content/drive/MyDrive/Colab_Notebooks/GTA/data/SWAT/SWaT_Dataset_test.csv')"
      ],
      "metadata": {
        "id": "_hUyrptm_RnJ"
      },
      "execution_count": 214,
      "outputs": []
    },
    {
      "cell_type": "code",
      "source": [
        "from datetime import datetime\n",
        "import time\n",
        "train[' Timestamp'] = pd.to_datetime(train[' Timestamp'])\n",
        "attack_data[' Timestamp'] = pd.to_datetime(attack_data[' Timestamp'])\n",
        "for i in range(len(train[' Timestamp'])):\n",
        "  train[' Timestamp'].iloc[i] = time.mktime(train[' Timestamp'].iloc[i].timetuple())\n",
        "for i in range(len(attack_data[' Timestamp'])):\n",
        "  attack_data[' Timestamp'].iloc[i] = time.mktime(attack_data[' Timestamp'].iloc[i].timetuple())"
      ],
      "metadata": {
        "colab": {
          "base_uri": "https://localhost:8080/"
        },
        "id": "izCXQ3pNG8P8",
        "outputId": "205b1f34-fccf-497c-ac83-df571d85edf2"
      },
      "execution_count": 5,
      "outputs": [
        {
          "output_type": "stream",
          "name": "stderr",
          "text": [
            "/usr/local/lib/python3.7/dist-packages/pandas/core/indexing.py:1732: SettingWithCopyWarning: \n",
            "A value is trying to be set on a copy of a slice from a DataFrame\n",
            "\n",
            "See the caveats in the documentation: https://pandas.pydata.org/pandas-docs/stable/user_guide/indexing.html#returning-a-view-versus-a-copy\n",
            "  self._setitem_single_block(indexer, value, name)\n"
          ]
        }
      ]
    },
    {
      "cell_type": "code",
      "source": [
        "train.to_csv('/content/drive/MyDrive/Colab_Notebooks/GTA/data/SWAT/SWaT_Dataset_Normal_v1_0.csv')\n",
        "attack_data.to_csv('/content/drive/MyDrive/Colab_Notebooks/GTA/data/SWAT/SWaT_Dataset_test.csv')"
      ],
      "metadata": {
        "id": "yDgkzMxSIEY_"
      },
      "execution_count": 16,
      "outputs": []
    },
    {
      "cell_type": "code",
      "source": [
        "train.drop('label', axis=1, inplace=True)"
      ],
      "metadata": {
        "id": "MkDby0zUNQT2"
      },
      "execution_count": 14,
      "outputs": []
    },
    {
      "cell_type": "code",
      "source": [
        "train1 = pd.read_csv('/content/drive/MyDrive/Colab_Notebooks/GTA/data/SWAT/SWaT_Dataset_Normal_v1_0.csv', index_col=[0])"
      ],
      "metadata": {
        "id": "ayuyACwKNWm9"
      },
      "execution_count": 17,
      "outputs": []
    },
    {
      "cell_type": "code",
      "source": [
        "%cd /content/drive/MyDrive/Colab_Notebooks/GTA"
      ],
      "metadata": {
        "colab": {
          "base_uri": "https://localhost:8080/"
        },
        "id": "iNLGn6l-N0Iy",
        "outputId": "4e249e61-f24f-4c82-c8fd-be0eac1a57e9"
      },
      "execution_count": 20,
      "outputs": [
        {
          "output_type": "stream",
          "name": "stdout",
          "text": [
            "/content/drive/MyDrive/Colab_Notebooks/GTA\n"
          ]
        }
      ]
    },
    {
      "cell_type": "code",
      "source": [
        "!python -u main_gta_dad.py --model gta --data SWaT --root_path '/content/drive/MyDrive/Colab_Notebooks/GTA/data/SWAT' --data_path 'SWaT_Dataset_Normal_v1_0.csv'"
      ],
      "metadata": {
        "colab": {
          "base_uri": "https://localhost:8080/"
        },
        "id": "mHw9EZkNIYNp",
        "outputId": "87be2a89-1075-4fd6-e574-3f675115215b"
      },
      "execution_count": 27,
      "outputs": [
        {
          "output_type": "stream",
          "name": "stdout",
          "text": [
            "True\n",
            "Use GPU: cuda:0\n",
            ">>>>>>>start training : gta_SWaT_ftM_sl60_ll30_pl1_nl3_dm124_nh8_el3_dl2_df124_atprob_ebfixed_test_0>>>>>>>>>>>>>>>>>>>>>>>>>>\n",
            "train 322228\n",
            "val 112419\n",
            "test 449859\n",
            "\titers: 100, epoch: 1 | loss: 2136.4679275\n",
            "\tspeed: 0.0839s/iter; left time: 802.8115s\n",
            "\titers: 200, epoch: 1 | loss: 2109.4082040\n",
            "\tspeed: 0.0796s/iter; left time: 753.4116s\n",
            "\titers: 300, epoch: 1 | loss: 2082.3634169\n",
            "\tspeed: 0.0804s/iter; left time: 752.9218s\n",
            "\titers: 400, epoch: 1 | loss: 2055.3209757\n",
            "\tspeed: 0.0798s/iter; left time: 739.1853s\n",
            "\titers: 500, epoch: 1 | loss: 2028.2807609\n",
            "\tspeed: 0.0801s/iter; left time: 734.2561s\n",
            "\titers: 600, epoch: 1 | loss: 2001.2387096\n",
            "\tspeed: 0.0792s/iter; left time: 718.3638s\n",
            "\titers: 700, epoch: 1 | loss: 1974.1984742\n",
            "\tspeed: 0.0803s/iter; left time: 719.9497s\n",
            "\titers: 800, epoch: 1 | loss: 1947.1574995\n",
            "\tspeed: 0.0795s/iter; left time: 704.6080s\n",
            "\titers: 900, epoch: 1 | loss: 1920.1175767\n",
            "\tspeed: 0.0805s/iter; left time: 706.1035s\n",
            "\titers: 1000, epoch: 1 | loss: 1893.0767462\n",
            "\tspeed: 0.0803s/iter; left time: 695.6427s\n",
            "\titers: 1100, epoch: 1 | loss: 1866.0362643\n",
            "\tspeed: 0.0793s/iter; left time: 679.6933s\n",
            "\titers: 1200, epoch: 1 | loss: 1838.9962509\n",
            "\tspeed: 0.0800s/iter; left time: 677.3955s\n",
            "\titers: 1300, epoch: 1 | loss: 1811.9556034\n",
            "\tspeed: 0.0795s/iter; left time: 664.9626s\n",
            "\titers: 1400, epoch: 1 | loss: 1784.9151269\n",
            "\tspeed: 0.0796s/iter; left time: 658.3403s\n",
            "\titers: 1500, epoch: 1 | loss: 1757.8748773\n",
            "\tspeed: 0.0795s/iter; left time: 649.0014s\n",
            "\titers: 1600, epoch: 1 | loss: 1730.8347121\n",
            "\tspeed: 0.0793s/iter; left time: 639.3249s\n",
            "Epoch: 1, Steps: 1611 | Train Loss: 1945.5418280 Vali Loss: 0.1082272 Test Loss: 0.1091894\n",
            "Validation loss decreased (inf --> 0.108227).  Saving model ...\n",
            "Updating learning rate to 0.0001\n",
            "\titers: 100, epoch: 2 | loss: 1700.8203277\n",
            "\tspeed: 1.0023s/iter; left time: 7973.9229s\n",
            "\titers: 200, epoch: 2 | loss: 1673.7797608\n",
            "\tspeed: 0.0792s/iter; left time: 622.5053s\n",
            "\titers: 300, epoch: 2 | loss: 1646.7392926\n",
            "\tspeed: 0.0795s/iter; left time: 616.6976s\n",
            "\titers: 400, epoch: 2 | loss: 1619.6995462\n",
            "\tspeed: 0.0796s/iter; left time: 609.5159s\n",
            "\titers: 500, epoch: 2 | loss: 1592.6592668\n",
            "\tspeed: 0.0797s/iter; left time: 601.8797s\n",
            "\titers: 600, epoch: 2 | loss: 1565.6187575\n",
            "\tspeed: 0.0792s/iter; left time: 590.6977s\n",
            "\titers: 700, epoch: 2 | loss: 1538.5789537\n",
            "\tspeed: 0.0794s/iter; left time: 584.0661s\n",
            "\titers: 800, epoch: 2 | loss: 1511.5388641\n",
            "\tspeed: 0.0799s/iter; left time: 579.5959s\n",
            "\titers: 900, epoch: 2 | loss: 1484.4986986\n",
            "\tspeed: 0.0798s/iter; left time: 571.1676s\n",
            "\titers: 1000, epoch: 2 | loss: 1457.4586375\n",
            "\tspeed: 0.0789s/iter; left time: 556.7477s\n",
            "\titers: 1100, epoch: 2 | loss: 1430.4183445\n",
            "\tspeed: 0.0804s/iter; left time: 559.0809s\n",
            "\titers: 1200, epoch: 2 | loss: 1403.3783990\n",
            "\tspeed: 0.0795s/iter; left time: 545.2506s\n",
            "\titers: 1300, epoch: 2 | loss: 1376.3386766\n",
            "\tspeed: 0.0807s/iter; left time: 544.9090s\n",
            "\titers: 1400, epoch: 2 | loss: 1349.2981144\n",
            "\tspeed: 0.0803s/iter; left time: 534.4960s\n",
            "\titers: 1500, epoch: 2 | loss: 1322.2584048\n",
            "\tspeed: 0.0806s/iter; left time: 528.6032s\n",
            "\titers: 1600, epoch: 2 | loss: 1295.2183976\n",
            "\tspeed: 0.0810s/iter; left time: 522.8927s\n",
            "Epoch: 2, Steps: 1611 | Train Loss: 1509.9164906 Vali Loss: 0.1005548 Test Loss: 0.1007100\n",
            "Validation loss decreased (0.108227 --> 0.100555).  Saving model ...\n",
            "Updating learning rate to 5e-05\n",
            "\titers: 100, epoch: 3 | loss: 1278.5884084\n",
            "\tspeed: 1.0105s/iter; left time: 6411.5614s\n",
            "\titers: 200, epoch: 3 | loss: 1265.0682388\n",
            "\tspeed: 0.0795s/iter; left time: 496.7828s\n",
            "\titers: 300, epoch: 3 | loss: 1251.5482824\n",
            "\tspeed: 0.0796s/iter; left time: 489.0938s\n",
            "\titers: 400, epoch: 3 | loss: 1238.0286685\n",
            "\tspeed: 0.0807s/iter; left time: 488.0590s\n",
            "\titers: 500, epoch: 3 | loss: 1224.5082182\n",
            "\tspeed: 0.0810s/iter; left time: 481.2883s\n",
            "\titers: 600, epoch: 3 | loss: 1210.9882418\n",
            "\tspeed: 0.0802s/iter; left time: 468.7071s\n",
            "\titers: 700, epoch: 3 | loss: 1197.4681368\n",
            "\tspeed: 0.0804s/iter; left time: 462.0114s\n",
            "\titers: 800, epoch: 3 | loss: 1183.9481373\n",
            "\tspeed: 0.0805s/iter; left time: 454.5937s\n",
            "\titers: 900, epoch: 3 | loss: 1170.4280151\n",
            "\tspeed: 0.0799s/iter; left time: 442.7726s\n",
            "\titers: 1000, epoch: 3 | loss: 1156.9078738\n",
            "\tspeed: 0.0809s/iter; left time: 440.3213s\n",
            "\titers: 1100, epoch: 3 | loss: 1143.3882691\n",
            "\tspeed: 0.0795s/iter; left time: 424.7743s\n",
            "\titers: 1200, epoch: 3 | loss: 1129.8679844\n",
            "\tspeed: 0.0801s/iter; left time: 420.0514s\n",
            "\titers: 1300, epoch: 3 | loss: 1116.3479472\n",
            "\tspeed: 0.0800s/iter; left time: 411.7332s\n",
            "\titers: 1400, epoch: 3 | loss: 1102.8281772\n",
            "\tspeed: 0.0789s/iter; left time: 397.7998s\n",
            "\titers: 1500, epoch: 3 | loss: 1089.3081486\n",
            "\tspeed: 0.0800s/iter; left time: 395.8095s\n",
            "\titers: 1600, epoch: 3 | loss: 1075.7877550\n",
            "\tspeed: 0.0804s/iter; left time: 389.5189s\n",
            "Epoch: 3, Steps: 1611 | Train Loss: 1183.1369985 Vali Loss: 0.0972281 Test Loss: 0.0974118\n",
            "Validation loss decreased (0.100555 --> 0.097228).  Saving model ...\n",
            "Updating learning rate to 2.5e-05\n",
            "\titers: 100, epoch: 4 | loss: 1067.4731914\n",
            "\tspeed: 0.9932s/iter; left time: 4701.7131s\n",
            "\titers: 200, epoch: 4 | loss: 1060.7135013\n",
            "\tspeed: 0.0795s/iter; left time: 368.5691s\n",
            "\titers: 300, epoch: 4 | loss: 1053.9530048\n",
            "\tspeed: 0.0787s/iter; left time: 356.7350s\n",
            "\titers: 400, epoch: 4 | loss: 1047.1932696\n",
            "\tspeed: 0.0786s/iter; left time: 348.6025s\n",
            "\titers: 500, epoch: 4 | loss: 1040.4331765\n",
            "\tspeed: 0.0810s/iter; left time: 351.2527s\n",
            "\titers: 600, epoch: 4 | loss: 1033.6730107\n",
            "\tspeed: 0.0806s/iter; left time: 341.0967s\n",
            "\titers: 700, epoch: 4 | loss: 1026.9131805\n",
            "\tspeed: 0.0786s/iter; left time: 324.9477s\n",
            "\titers: 800, epoch: 4 | loss: 1020.1531715\n",
            "\tspeed: 0.0796s/iter; left time: 321.2838s\n",
            "\titers: 900, epoch: 4 | loss: 1013.3932280\n",
            "\tspeed: 0.0798s/iter; left time: 314.1157s\n",
            "\titers: 1000, epoch: 4 | loss: 1006.6330736\n",
            "\tspeed: 0.0787s/iter; left time: 301.8961s\n",
            "\titers: 1100, epoch: 4 | loss: 999.8730730\n",
            "\tspeed: 0.0793s/iter; left time: 296.0796s\n",
            "\titers: 1200, epoch: 4 | loss: 993.1130162\n",
            "\tspeed: 0.0791s/iter; left time: 287.2933s\n",
            "\titers: 1300, epoch: 4 | loss: 986.3527736\n",
            "\tspeed: 0.0805s/iter; left time: 284.4123s\n",
            "\titers: 1400, epoch: 4 | loss: 979.5929319\n",
            "\tspeed: 0.0789s/iter; left time: 271.0912s\n",
            "\titers: 1500, epoch: 4 | loss: 972.8329495\n",
            "\tspeed: 0.0804s/iter; left time: 268.1013s\n",
            "\titers: 1600, epoch: 4 | loss: 966.0732498\n",
            "\tspeed: 0.0811s/iter; left time: 262.2784s\n",
            "Epoch: 4, Steps: 1611 | Train Loss: 1019.7474694 Vali Loss: 0.0958462 Test Loss: 0.0959284\n",
            "Validation loss decreased (0.097228 --> 0.095846).  Saving model ...\n",
            "Updating learning rate to 1.25e-05\n",
            "\titers: 100, epoch: 5 | loss: 961.9155562\n",
            "\tspeed: 1.0076s/iter; left time: 3146.7036s\n",
            "\titers: 200, epoch: 5 | loss: 958.5354628\n",
            "\tspeed: 0.0809s/iter; left time: 244.5789s\n",
            "\titers: 300, epoch: 5 | loss: 955.1554488\n",
            "\tspeed: 0.0807s/iter; left time: 235.7471s\n",
            "\titers: 400, epoch: 5 | loss: 951.7755992\n",
            "\tspeed: 0.0813s/iter; left time: 229.6299s\n",
            "\titers: 500, epoch: 5 | loss: 948.3954976\n",
            "\tspeed: 0.0802s/iter; left time: 218.4963s\n",
            "\titers: 600, epoch: 5 | loss: 945.0154414\n",
            "\tspeed: 0.0796s/iter; left time: 208.6677s\n",
            "\titers: 700, epoch: 5 | loss: 941.6356630\n",
            "\tspeed: 0.0800s/iter; left time: 201.9493s\n",
            "\titers: 800, epoch: 5 | loss: 938.2555610\n",
            "\tspeed: 0.0810s/iter; left time: 196.2777s\n",
            "\titers: 900, epoch: 5 | loss: 934.8754689\n",
            "\tspeed: 0.0797s/iter; left time: 185.1387s\n",
            "\titers: 1000, epoch: 5 | loss: 931.4954512\n",
            "\tspeed: 0.0798s/iter; left time: 177.5026s\n",
            "\titers: 1100, epoch: 5 | loss: 928.1152977\n",
            "\tspeed: 0.0802s/iter; left time: 170.2525s\n",
            "\titers: 1200, epoch: 5 | loss: 924.7354453\n",
            "\tspeed: 0.0805s/iter; left time: 162.7816s\n",
            "\titers: 1300, epoch: 5 | loss: 921.3554710\n",
            "\tspeed: 0.0799s/iter; left time: 153.5706s\n",
            "\titers: 1400, epoch: 5 | loss: 917.9754345\n",
            "\tspeed: 0.0796s/iter; left time: 145.1572s\n",
            "\titers: 1500, epoch: 5 | loss: 914.5954199\n",
            "\tspeed: 0.0793s/iter; left time: 136.6565s\n",
            "\titers: 1600, epoch: 5 | loss: 911.2156356\n",
            "\tspeed: 0.0792s/iter; left time: 128.5504s\n",
            "Epoch: 5, Steps: 1611 | Train Loss: 938.0527153 Vali Loss: 0.0947188 Test Loss: 0.0948303\n",
            "Validation loss decreased (0.095846 --> 0.094719).  Saving model ...\n",
            "Updating learning rate to 6.25e-06\n",
            "\titers: 100, epoch: 6 | loss: 909.1366971\n",
            "\tspeed: 1.0083s/iter; left time: 1524.5643s\n",
            "\titers: 200, epoch: 6 | loss: 907.4467050\n",
            "\tspeed: 0.0797s/iter; left time: 112.5103s\n",
            "\titers: 300, epoch: 6 | loss: 905.7568637\n",
            "\tspeed: 0.0797s/iter; left time: 104.5559s\n",
            "\titers: 400, epoch: 6 | loss: 904.0668427\n",
            "\tspeed: 0.0791s/iter; left time: 95.8110s\n",
            "\titers: 500, epoch: 6 | loss: 902.3767509\n",
            "\tspeed: 0.0805s/iter; left time: 89.4822s\n",
            "\titers: 600, epoch: 6 | loss: 900.6866631\n",
            "\tspeed: 0.0800s/iter; left time: 80.9122s\n",
            "\titers: 700, epoch: 6 | loss: 898.9967103\n",
            "\tspeed: 0.0795s/iter; left time: 72.5056s\n",
            "\titers: 800, epoch: 6 | loss: 897.3066195\n",
            "\tspeed: 0.0792s/iter; left time: 64.2814s\n",
            "\titers: 900, epoch: 6 | loss: 895.6167132\n",
            "\tspeed: 0.0797s/iter; left time: 56.7555s\n",
            "\titers: 1000, epoch: 6 | loss: 893.9271007\n",
            "\tspeed: 0.0796s/iter; left time: 48.7229s\n",
            "\titers: 1100, epoch: 6 | loss: 892.2366879\n",
            "\tspeed: 0.0794s/iter; left time: 40.6543s\n",
            "\titers: 1200, epoch: 6 | loss: 890.5465737\n",
            "\tspeed: 0.0812s/iter; left time: 33.4385s\n",
            "\titers: 1300, epoch: 6 | loss: 888.8566222\n",
            "\tspeed: 0.0800s/iter; left time: 24.9744s\n",
            "\titers: 1400, epoch: 6 | loss: 887.1667683\n",
            "\tspeed: 0.0794s/iter; left time: 16.8244s\n",
            "\titers: 1500, epoch: 6 | loss: 885.4766842\n",
            "\tspeed: 0.0796s/iter; left time: 8.9179s\n",
            "\titers: 1600, epoch: 6 | loss: 883.7867929\n",
            "\tspeed: 0.0801s/iter; left time: 0.9611s\n",
            "Epoch: 6, Steps: 1611 | Train Loss: 897.2053345 Vali Loss: 0.0941809 Test Loss: 0.0942257\n",
            "Validation loss decreased (0.094719 --> 0.094181).  Saving model ...\n",
            "Updating learning rate to 3.125e-06\n",
            ">>>>>>>testing : gta_SWaT_ftM_sl60_ll30_pl1_nl3_dm124_nh8_el3_dl2_df124_atprob_ebfixed_test_0<<<<<<<<<<<<<<<<<<<<<<<<<<<<<<<<<\n",
            "test 449859\n",
            "test shape: (2249, 200, 1, 52) (2249, 200, 1, 52)\n",
            "test shape: (449800, 1, 52) (449800, 1, 52)\n",
            "mse:0.09421870793487422, mae:0.19421122622832618\n",
            "Use GPU: cuda:0\n",
            ">>>>>>>start training : gta_SWaT_ftM_sl60_ll30_pl1_nl3_dm124_nh8_el3_dl2_df124_atprob_ebfixed_test_1>>>>>>>>>>>>>>>>>>>>>>>>>>\n",
            "train 322228\n",
            "val 112419\n",
            "test 449859\n",
            "\titers: 100, epoch: 1 | loss: 2136.4614568\n",
            "\tspeed: 0.0811s/iter; left time: 776.1871s\n",
            "\titers: 200, epoch: 1 | loss: 2109.4083687\n",
            "\tspeed: 0.0829s/iter; left time: 785.2720s\n",
            "\titers: 300, epoch: 1 | loss: 2082.3626870\n",
            "\tspeed: 0.0823s/iter; left time: 770.6813s\n",
            "\titers: 400, epoch: 1 | loss: 2055.3204200\n",
            "\tspeed: 0.0813s/iter; left time: 753.7973s\n",
            "\titers: 500, epoch: 1 | loss: 2028.2788575\n",
            "\tspeed: 0.0808s/iter; left time: 740.2727s\n",
            "\titers: 600, epoch: 1 | loss: 2001.2380650\n",
            "\tspeed: 0.0808s/iter; left time: 733.0009s\n",
            "\titers: 700, epoch: 1 | loss: 1974.1977512\n",
            "\tspeed: 0.0804s/iter; left time: 721.1720s\n",
            "\titers: 800, epoch: 1 | loss: 1947.1570892\n",
            "\tspeed: 0.0811s/iter; left time: 719.3684s\n",
            "\titers: 900, epoch: 1 | loss: 1920.1160563\n",
            "\tspeed: 0.0806s/iter; left time: 706.1870s\n",
            "\titers: 1000, epoch: 1 | loss: 1893.0765125\n",
            "\tspeed: 0.0806s/iter; left time: 698.1677s\n",
            "\titers: 1100, epoch: 1 | loss: 1866.0355198\n",
            "\tspeed: 0.0808s/iter; left time: 692.0762s\n",
            "\titers: 1200, epoch: 1 | loss: 1838.9953564\n",
            "\tspeed: 0.0815s/iter; left time: 689.6943s\n",
            "\titers: 1300, epoch: 1 | loss: 1811.9555209\n",
            "\tspeed: 0.0808s/iter; left time: 675.6958s\n",
            "\titers: 1400, epoch: 1 | loss: 1784.9152334\n",
            "\tspeed: 0.0804s/iter; left time: 664.5628s\n",
            "\titers: 1500, epoch: 1 | loss: 1757.8748781\n",
            "\tspeed: 0.0804s/iter; left time: 656.5521s\n",
            "\titers: 1600, epoch: 1 | loss: 1730.8347420\n",
            "\tspeed: 0.0809s/iter; left time: 652.8661s\n",
            "Epoch: 1, Steps: 1611 | Train Loss: 1945.5409405 Vali Loss: 0.1220209 Test Loss: 0.1181739\n",
            "Validation loss decreased (inf --> 0.122021).  Saving model ...\n",
            "Updating learning rate to 0.0001\n",
            "\titers: 100, epoch: 2 | loss: 1700.8197967\n",
            "\tspeed: 1.0126s/iter; left time: 8056.4014s\n",
            "\titers: 200, epoch: 2 | loss: 1673.7798484\n",
            "\tspeed: 0.0801s/iter; left time: 629.1732s\n",
            "\titers: 300, epoch: 2 | loss: 1646.7393366\n",
            "\tspeed: 0.0797s/iter; left time: 618.4433s\n",
            "\titers: 400, epoch: 2 | loss: 1619.6994257\n",
            "\tspeed: 0.0822s/iter; left time: 629.6810s\n",
            "\titers: 500, epoch: 2 | loss: 1592.6588360\n",
            "\tspeed: 0.0816s/iter; left time: 616.4615s\n",
            "\titers: 600, epoch: 2 | loss: 1565.6193083\n",
            "\tspeed: 0.0816s/iter; left time: 608.1386s\n",
            "\titers: 700, epoch: 2 | loss: 1538.5790781\n",
            "\tspeed: 0.0800s/iter; left time: 588.1333s\n",
            "\titers: 800, epoch: 2 | loss: 1511.5390703\n",
            "\tspeed: 0.0814s/iter; left time: 590.7121s\n",
            "\titers: 900, epoch: 2 | loss: 1484.4984509\n",
            "\tspeed: 0.0830s/iter; left time: 593.7057s\n",
            "\titers: 1000, epoch: 2 | loss: 1457.4583257\n",
            "\tspeed: 0.0808s/iter; left time: 570.3570s\n",
            "\titers: 1100, epoch: 2 | loss: 1430.4183961\n",
            "\tspeed: 0.0809s/iter; left time: 562.5231s\n",
            "\titers: 1200, epoch: 2 | loss: 1403.3782939\n",
            "\tspeed: 0.0801s/iter; left time: 549.2350s\n",
            "\titers: 1300, epoch: 2 | loss: 1376.3381049\n",
            "\tspeed: 0.0805s/iter; left time: 543.8084s\n",
            "\titers: 1400, epoch: 2 | loss: 1349.2983802\n",
            "\tspeed: 0.0807s/iter; left time: 537.1225s\n",
            "\titers: 1500, epoch: 2 | loss: 1322.2579216\n",
            "\tspeed: 0.0807s/iter; left time: 529.2439s\n",
            "\titers: 1600, epoch: 2 | loss: 1295.2175978\n",
            "\tspeed: 0.0797s/iter; left time: 514.6777s\n",
            "Epoch: 2, Steps: 1611 | Train Loss: 1509.9164367 Vali Loss: 0.1090604 Test Loss: 0.1055780\n",
            "Validation loss decreased (0.122021 --> 0.109060).  Saving model ...\n",
            "Updating learning rate to 5e-05\n",
            "\titers: 100, epoch: 3 | loss: 1278.5884927\n",
            "\tspeed: 1.0230s/iter; left time: 6491.1776s\n",
            "\titers: 200, epoch: 3 | loss: 1265.0682394\n",
            "\tspeed: 0.0807s/iter; left time: 504.1054s\n",
            "\titers: 300, epoch: 3 | loss: 1251.5480740\n",
            "\tspeed: 0.0813s/iter; left time: 499.5559s\n",
            "\titers: 400, epoch: 3 | loss: 1238.0283695\n",
            "\tspeed: 0.0812s/iter; left time: 491.0909s\n",
            "\titers: 500, epoch: 3 | loss: 1224.5082379\n",
            "\tspeed: 0.0820s/iter; left time: 487.7084s\n",
            "\titers: 600, epoch: 3 | loss: 1210.9881537\n",
            "\tspeed: 0.0821s/iter; left time: 479.9452s\n",
            "\titers: 700, epoch: 3 | loss: 1197.4679814\n",
            "\tspeed: 0.0811s/iter; left time: 466.1305s\n",
            "\titers: 800, epoch: 3 | loss: 1183.9484143\n",
            "\tspeed: 0.0812s/iter; left time: 458.6313s\n",
            "\titers: 900, epoch: 3 | loss: 1170.4280615\n",
            "\tspeed: 0.0817s/iter; left time: 453.2021s\n",
            "\titers: 1000, epoch: 3 | loss: 1156.9081239\n",
            "\tspeed: 0.0815s/iter; left time: 443.5058s\n",
            "\titers: 1100, epoch: 3 | loss: 1143.3880562\n",
            "\tspeed: 0.0822s/iter; left time: 439.2004s\n",
            "\titers: 1200, epoch: 3 | loss: 1129.8681775\n",
            "\tspeed: 0.0814s/iter; left time: 427.1658s\n",
            "\titers: 1300, epoch: 3 | loss: 1116.3480041\n",
            "\tspeed: 0.0828s/iter; left time: 426.2383s\n",
            "\titers: 1400, epoch: 3 | loss: 1102.8281715\n",
            "\tspeed: 0.0815s/iter; left time: 411.0979s\n",
            "\titers: 1500, epoch: 3 | loss: 1089.3079457\n",
            "\tspeed: 0.0806s/iter; left time: 398.5443s\n",
            "\titers: 1600, epoch: 3 | loss: 1075.7881434\n",
            "\tspeed: 0.0812s/iter; left time: 393.2365s\n",
            "Epoch: 3, Steps: 1611 | Train Loss: 1183.1369381 Vali Loss: 0.1062438 Test Loss: 0.1035362\n",
            "Validation loss decreased (0.109060 --> 0.106244).  Saving model ...\n",
            "Updating learning rate to 2.5e-05\n",
            "\titers: 100, epoch: 4 | loss: 1067.4733353\n",
            "\tspeed: 1.0237s/iter; left time: 4846.2797s\n",
            "\titers: 200, epoch: 4 | loss: 1060.7131263\n",
            "\tspeed: 0.0806s/iter; left time: 373.6360s\n",
            "\titers: 300, epoch: 4 | loss: 1053.9532296\n",
            "\tspeed: 0.0798s/iter; left time: 361.9483s\n",
            "\titers: 400, epoch: 4 | loss: 1047.1929678\n",
            "\tspeed: 0.0802s/iter; left time: 355.4992s\n",
            "\titers: 500, epoch: 4 | loss: 1040.4330108\n",
            "\tspeed: 0.0805s/iter; left time: 348.8771s\n",
            "\titers: 600, epoch: 4 | loss: 1033.6728555\n",
            "\tspeed: 0.0798s/iter; left time: 338.0304s\n",
            "\titers: 700, epoch: 4 | loss: 1026.9129480\n",
            "\tspeed: 0.0808s/iter; left time: 333.8792s\n",
            "\titers: 800, epoch: 4 | loss: 1020.1529934\n",
            "\tspeed: 0.0812s/iter; left time: 327.6388s\n",
            "\titers: 900, epoch: 4 | loss: 1013.3930881\n",
            "\tspeed: 0.0805s/iter; left time: 316.7813s\n",
            "\titers: 1000, epoch: 4 | loss: 1006.6331104\n",
            "\tspeed: 0.0811s/iter; left time: 310.8059s\n",
            "\titers: 1100, epoch: 4 | loss: 999.8732177\n",
            "\tspeed: 0.0811s/iter; left time: 302.7067s\n",
            "\titers: 1200, epoch: 4 | loss: 993.1129324\n",
            "\tspeed: 0.0814s/iter; left time: 295.7257s\n",
            "\titers: 1300, epoch: 4 | loss: 986.3528978\n",
            "\tspeed: 0.0817s/iter; left time: 288.8080s\n",
            "\titers: 1400, epoch: 4 | loss: 979.5930620\n",
            "\tspeed: 0.0806s/iter; left time: 276.9089s\n",
            "\titers: 1500, epoch: 4 | loss: 972.8329456\n",
            "\tspeed: 0.0800s/iter; left time: 266.6420s\n",
            "\titers: 1600, epoch: 4 | loss: 966.0726918\n",
            "\tspeed: 0.0805s/iter; left time: 260.4281s\n",
            "Epoch: 4, Steps: 1611 | Train Loss: 1019.7474215 Vali Loss: 0.1045221 Test Loss: 0.1018915\n",
            "Validation loss decreased (0.106244 --> 0.104522).  Saving model ...\n",
            "Updating learning rate to 1.25e-05\n",
            "\titers: 100, epoch: 5 | loss: 961.9156950\n",
            "\tspeed: 1.0203s/iter; left time: 3186.2848s\n",
            "\titers: 200, epoch: 5 | loss: 958.5354371\n",
            "\tspeed: 0.0809s/iter; left time: 244.6911s\n",
            "\titers: 300, epoch: 5 | loss: 955.1555768\n",
            "\tspeed: 0.0814s/iter; left time: 237.9630s\n",
            "\titers: 400, epoch: 5 | loss: 951.7754446\n",
            "\tspeed: 0.0803s/iter; left time: 226.5552s\n",
            "\titers: 500, epoch: 5 | loss: 948.3957483\n",
            "\tspeed: 0.0811s/iter; left time: 220.8709s\n",
            "\titers: 600, epoch: 5 | loss: 945.0156232\n",
            "\tspeed: 0.0812s/iter; left time: 212.9672s\n",
            "\titers: 700, epoch: 5 | loss: 941.6354470\n",
            "\tspeed: 0.0817s/iter; left time: 206.1547s\n",
            "\titers: 800, epoch: 5 | loss: 938.2552729\n",
            "\tspeed: 0.0807s/iter; left time: 195.4182s\n",
            "\titers: 900, epoch: 5 | loss: 934.8754263\n",
            "\tspeed: 0.0803s/iter; left time: 186.4351s\n",
            "\titers: 1000, epoch: 5 | loss: 931.4953371\n",
            "\tspeed: 0.0810s/iter; left time: 180.1061s\n",
            "\titers: 1100, epoch: 5 | loss: 928.1153940\n",
            "\tspeed: 0.0807s/iter; left time: 171.3035s\n",
            "\titers: 1200, epoch: 5 | loss: 924.7355919\n",
            "\tspeed: 0.0817s/iter; left time: 165.2476s\n",
            "\titers: 1300, epoch: 5 | loss: 921.3554501\n",
            "\tspeed: 0.0809s/iter; left time: 155.5159s\n",
            "\titers: 1400, epoch: 5 | loss: 917.9753826\n",
            "\tspeed: 0.0803s/iter; left time: 146.4034s\n",
            "\titers: 1500, epoch: 5 | loss: 914.5953295\n",
            "\tspeed: 0.0810s/iter; left time: 139.5558s\n",
            "\titers: 1600, epoch: 5 | loss: 911.2154672\n",
            "\tspeed: 0.0828s/iter; left time: 134.4111s\n",
            "Epoch: 5, Steps: 1611 | Train Loss: 938.0526730 Vali Loss: 0.1030418 Test Loss: 0.1006500\n",
            "Validation loss decreased (0.104522 --> 0.103042).  Saving model ...\n",
            "Updating learning rate to 6.25e-06\n",
            "\titers: 100, epoch: 6 | loss: 909.1366330\n",
            "\tspeed: 1.0239s/iter; left time: 1548.1155s\n",
            "\titers: 200, epoch: 6 | loss: 907.4467154\n",
            "\tspeed: 0.0807s/iter; left time: 113.9824s\n",
            "\titers: 300, epoch: 6 | loss: 905.7566395\n",
            "\tspeed: 0.0805s/iter; left time: 105.5728s\n",
            "\titers: 400, epoch: 6 | loss: 904.0666791\n",
            "\tspeed: 0.0824s/iter; left time: 99.9211s\n",
            "\titers: 500, epoch: 6 | loss: 902.3767605\n",
            "\tspeed: 0.0820s/iter; left time: 91.1866s\n",
            "\titers: 600, epoch: 6 | loss: 900.6866348\n",
            "\tspeed: 0.0805s/iter; left time: 81.4566s\n",
            "\titers: 700, epoch: 6 | loss: 898.9966683\n",
            "\tspeed: 0.0817s/iter; left time: 74.5502s\n",
            "\titers: 800, epoch: 6 | loss: 897.3066038\n",
            "\tspeed: 0.0811s/iter; left time: 65.8168s\n",
            "\titers: 900, epoch: 6 | loss: 895.6165680\n",
            "\tspeed: 0.0807s/iter; left time: 57.4854s\n",
            "\titers: 1000, epoch: 6 | loss: 893.9266544\n",
            "\tspeed: 0.0814s/iter; left time: 49.8160s\n",
            "\titers: 1100, epoch: 6 | loss: 892.2364417\n",
            "\tspeed: 0.0811s/iter; left time: 41.5145s\n",
            "\titers: 1200, epoch: 6 | loss: 890.5465604\n",
            "\tspeed: 0.0818s/iter; left time: 33.7156s\n",
            "\titers: 1300, epoch: 6 | loss: 888.8568027\n",
            "\tspeed: 0.0829s/iter; left time: 25.8686s\n",
            "\titers: 1400, epoch: 6 | loss: 887.1670239\n",
            "\tspeed: 0.0823s/iter; left time: 17.4405s\n",
            "\titers: 1500, epoch: 6 | loss: 885.4767489\n",
            "\tspeed: 0.0808s/iter; left time: 9.0506s\n",
            "\titers: 1600, epoch: 6 | loss: 883.7867046\n",
            "\tspeed: 0.0817s/iter; left time: 0.9808s\n",
            "Epoch: 6, Steps: 1611 | Train Loss: 897.2052960 Vali Loss: 0.1024560 Test Loss: 0.1001694\n",
            "Validation loss decreased (0.103042 --> 0.102456).  Saving model ...\n",
            "Updating learning rate to 3.125e-06\n",
            ">>>>>>>testing : gta_SWaT_ftM_sl60_ll30_pl1_nl3_dm124_nh8_el3_dl2_df124_atprob_ebfixed_test_1<<<<<<<<<<<<<<<<<<<<<<<<<<<<<<<<<\n",
            "test 449859\n",
            "test shape: (2249, 200, 1, 52) (2249, 200, 1, 52)\n",
            "test shape: (449800, 1, 52) (449800, 1, 52)\n",
            "mse:0.10016497216720924, mae:0.18779526713297262\n"
          ]
        }
      ]
    },
    {
      "cell_type": "code",
      "source": [
        "pd.DataFrame(attack_data['label'])"
      ],
      "metadata": {
        "colab": {
          "base_uri": "https://localhost:8080/",
          "height": 424
        },
        "id": "-XLqsyrTONzW",
        "outputId": "24f97242-e7db-48b5-c5b4-6c4f178b68cd"
      },
      "execution_count": 35,
      "outputs": [
        {
          "output_type": "execute_result",
          "data": {
            "text/plain": [
              "        label\n",
              "0           0\n",
              "1           0\n",
              "2           0\n",
              "3           0\n",
              "4           0\n",
              "...       ...\n",
              "449914      0\n",
              "449915      0\n",
              "449916      0\n",
              "449917      0\n",
              "449918      0\n",
              "\n",
              "[449919 rows x 1 columns]"
            ],
            "text/html": [
              "\n",
              "  <div id=\"df-a074bc75-4a24-42b4-b1dd-040011daf565\">\n",
              "    <div class=\"colab-df-container\">\n",
              "      <div>\n",
              "<style scoped>\n",
              "    .dataframe tbody tr th:only-of-type {\n",
              "        vertical-align: middle;\n",
              "    }\n",
              "\n",
              "    .dataframe tbody tr th {\n",
              "        vertical-align: top;\n",
              "    }\n",
              "\n",
              "    .dataframe thead th {\n",
              "        text-align: right;\n",
              "    }\n",
              "</style>\n",
              "<table border=\"1\" class=\"dataframe\">\n",
              "  <thead>\n",
              "    <tr style=\"text-align: right;\">\n",
              "      <th></th>\n",
              "      <th>label</th>\n",
              "    </tr>\n",
              "  </thead>\n",
              "  <tbody>\n",
              "    <tr>\n",
              "      <th>0</th>\n",
              "      <td>0</td>\n",
              "    </tr>\n",
              "    <tr>\n",
              "      <th>1</th>\n",
              "      <td>0</td>\n",
              "    </tr>\n",
              "    <tr>\n",
              "      <th>2</th>\n",
              "      <td>0</td>\n",
              "    </tr>\n",
              "    <tr>\n",
              "      <th>3</th>\n",
              "      <td>0</td>\n",
              "    </tr>\n",
              "    <tr>\n",
              "      <th>4</th>\n",
              "      <td>0</td>\n",
              "    </tr>\n",
              "    <tr>\n",
              "      <th>...</th>\n",
              "      <td>...</td>\n",
              "    </tr>\n",
              "    <tr>\n",
              "      <th>449914</th>\n",
              "      <td>0</td>\n",
              "    </tr>\n",
              "    <tr>\n",
              "      <th>449915</th>\n",
              "      <td>0</td>\n",
              "    </tr>\n",
              "    <tr>\n",
              "      <th>449916</th>\n",
              "      <td>0</td>\n",
              "    </tr>\n",
              "    <tr>\n",
              "      <th>449917</th>\n",
              "      <td>0</td>\n",
              "    </tr>\n",
              "    <tr>\n",
              "      <th>449918</th>\n",
              "      <td>0</td>\n",
              "    </tr>\n",
              "  </tbody>\n",
              "</table>\n",
              "<p>449919 rows × 1 columns</p>\n",
              "</div>\n",
              "      <button class=\"colab-df-convert\" onclick=\"convertToInteractive('df-a074bc75-4a24-42b4-b1dd-040011daf565')\"\n",
              "              title=\"Convert this dataframe to an interactive table.\"\n",
              "              style=\"display:none;\">\n",
              "        \n",
              "  <svg xmlns=\"http://www.w3.org/2000/svg\" height=\"24px\"viewBox=\"0 0 24 24\"\n",
              "       width=\"24px\">\n",
              "    <path d=\"M0 0h24v24H0V0z\" fill=\"none\"/>\n",
              "    <path d=\"M18.56 5.44l.94 2.06.94-2.06 2.06-.94-2.06-.94-.94-2.06-.94 2.06-2.06.94zm-11 1L8.5 8.5l.94-2.06 2.06-.94-2.06-.94L8.5 2.5l-.94 2.06-2.06.94zm10 10l.94 2.06.94-2.06 2.06-.94-2.06-.94-.94-2.06-.94 2.06-2.06.94z\"/><path d=\"M17.41 7.96l-1.37-1.37c-.4-.4-.92-.59-1.43-.59-.52 0-1.04.2-1.43.59L10.3 9.45l-7.72 7.72c-.78.78-.78 2.05 0 2.83L4 21.41c.39.39.9.59 1.41.59.51 0 1.02-.2 1.41-.59l7.78-7.78 2.81-2.81c.8-.78.8-2.07 0-2.86zM5.41 20L4 18.59l7.72-7.72 1.47 1.35L5.41 20z\"/>\n",
              "  </svg>\n",
              "      </button>\n",
              "      \n",
              "  <style>\n",
              "    .colab-df-container {\n",
              "      display:flex;\n",
              "      flex-wrap:wrap;\n",
              "      gap: 12px;\n",
              "    }\n",
              "\n",
              "    .colab-df-convert {\n",
              "      background-color: #E8F0FE;\n",
              "      border: none;\n",
              "      border-radius: 50%;\n",
              "      cursor: pointer;\n",
              "      display: none;\n",
              "      fill: #1967D2;\n",
              "      height: 32px;\n",
              "      padding: 0 0 0 0;\n",
              "      width: 32px;\n",
              "    }\n",
              "\n",
              "    .colab-df-convert:hover {\n",
              "      background-color: #E2EBFA;\n",
              "      box-shadow: 0px 1px 2px rgba(60, 64, 67, 0.3), 0px 1px 3px 1px rgba(60, 64, 67, 0.15);\n",
              "      fill: #174EA6;\n",
              "    }\n",
              "\n",
              "    [theme=dark] .colab-df-convert {\n",
              "      background-color: #3B4455;\n",
              "      fill: #D2E3FC;\n",
              "    }\n",
              "\n",
              "    [theme=dark] .colab-df-convert:hover {\n",
              "      background-color: #434B5C;\n",
              "      box-shadow: 0px 1px 3px 1px rgba(0, 0, 0, 0.15);\n",
              "      filter: drop-shadow(0px 1px 2px rgba(0, 0, 0, 0.3));\n",
              "      fill: #FFFFFF;\n",
              "    }\n",
              "  </style>\n",
              "\n",
              "      <script>\n",
              "        const buttonEl =\n",
              "          document.querySelector('#df-a074bc75-4a24-42b4-b1dd-040011daf565 button.colab-df-convert');\n",
              "        buttonEl.style.display =\n",
              "          google.colab.kernel.accessAllowed ? 'block' : 'none';\n",
              "\n",
              "        async function convertToInteractive(key) {\n",
              "          const element = document.querySelector('#df-a074bc75-4a24-42b4-b1dd-040011daf565');\n",
              "          const dataTable =\n",
              "            await google.colab.kernel.invokeFunction('convertToInteractive',\n",
              "                                                     [key], {});\n",
              "          if (!dataTable) return;\n",
              "\n",
              "          const docLinkHtml = 'Like what you see? Visit the ' +\n",
              "            '<a target=\"_blank\" href=https://colab.research.google.com/notebooks/data_table.ipynb>data table notebook</a>'\n",
              "            + ' to learn more about interactive tables.';\n",
              "          element.innerHTML = '';\n",
              "          dataTable['output_type'] = 'display_data';\n",
              "          await google.colab.output.renderOutput(dataTable, element);\n",
              "          const docLink = document.createElement('div');\n",
              "          docLink.innerHTML = docLinkHtml;\n",
              "          element.appendChild(docLink);\n",
              "        }\n",
              "      </script>\n",
              "    </div>\n",
              "  </div>\n",
              "  "
            ]
          },
          "metadata": {},
          "execution_count": 35
        }
      ]
    },
    {
      "cell_type": "code",
      "source": [
        "swat_label = np.load('/content/drive/MyDrive/Colab_Notebooks/GTA/results/gta_SWaT_ftM_sl60_ll30_pl1_nl3_dm124_nh8_el3_dl2_df124_atprob_ebfixed_test_1/label.npy')"
      ],
      "metadata": {
        "id": "WuvbGtm4Zxau"
      },
      "execution_count": 39,
      "outputs": []
    },
    {
      "cell_type": "code",
      "source": [
        "swat_label.shape"
      ],
      "metadata": {
        "colab": {
          "base_uri": "https://localhost:8080/"
        },
        "id": "FY4qrprwaLEn",
        "outputId": "587ddf0d-b17c-412c-ded8-8bf160f0026a"
      },
      "execution_count": 41,
      "outputs": [
        {
          "output_type": "execute_result",
          "data": {
            "text/plain": [
              "(449919,)"
            ]
          },
          "metadata": {},
          "execution_count": 41
        }
      ]
    },
    {
      "cell_type": "code",
      "source": [
        "swat_label = np.append(swat_label, np.zeros(119))"
      ],
      "metadata": {
        "id": "cUpeYeFaafQI"
      },
      "execution_count": 40,
      "outputs": []
    },
    {
      "cell_type": "code",
      "source": [
        "swat_pred = np.load('/content/drive/MyDrive/Colab_Notebooks/GTA/results/gta_SWaT_ftM_sl60_ll30_pl1_nl3_dm124_nh8_el3_dl2_df124_atprob_ebfixed_test_1/pred.npy')\n",
        "swat_true = np.load('/content/drive/MyDrive/Colab_Notebooks/GTA/results/gta_SWaT_ftM_sl60_ll30_pl1_nl3_dm124_nh8_el3_dl2_df124_atprob_ebfixed_test_1/true.npy')"
      ],
      "metadata": {
        "id": "smYdr_EJG7G0"
      },
      "execution_count": 3,
      "outputs": []
    },
    {
      "cell_type": "code",
      "source": [
        "import torch\n",
        "import torch.nn as nn\n",
        "f = swat_true\n",
        "for i in range(len(f)):\n",
        "  f[i] = ((swat_pred[i] - swat_true[i])**2).sum()\n",
        "f1 = torch.from_numpy(f)\n",
        "mp1 = nn.MaxPool1d(52)\n",
        "f1 = mp1(f1)\n",
        "f1 = f1.squeeze()\n",
        "f2 = f1.numpy()"
      ],
      "metadata": {
        "id": "xv9svF0-Hgpn"
      },
      "execution_count": 9,
      "outputs": []
    },
    {
      "cell_type": "code",
      "source": [
        "f2"
      ],
      "metadata": {
        "colab": {
          "base_uri": "https://localhost:8080/"
        },
        "id": "d2oSmN1FIK2T",
        "outputId": "c5c7c150-41aa-436c-e45f-c48a5b6e9dd8"
      },
      "execution_count": 13,
      "outputs": [
        {
          "output_type": "execute_result",
          "data": {
            "text/plain": [
              "array([5.34728885, 5.3495517 , 5.35599079, ..., 6.05729641, 6.06201379,\n",
              "       6.06239837])"
            ]
          },
          "metadata": {},
          "execution_count": 13
        }
      ]
    },
    {
      "cell_type": "code",
      "source": [
        "f3 = np.where(f2 > 4.5, 0, 1)"
      ],
      "metadata": {
        "id": "BZvkOF4rHglh"
      },
      "execution_count": 96,
      "outputs": []
    },
    {
      "cell_type": "code",
      "source": [
        "pd.DataFrame(f3).value_counts()"
      ],
      "metadata": {
        "colab": {
          "base_uri": "https://localhost:8080/"
        },
        "id": "CIGHgYeMHgjM",
        "outputId": "62474b6b-6bc3-4317-e76d-e99d002ce93f"
      },
      "execution_count": 98,
      "outputs": [
        {
          "output_type": "execute_result",
          "data": {
            "text/plain": [
              "0    415974\n",
              "1     33826\n",
              "dtype: int64"
            ]
          },
          "metadata": {},
          "execution_count": 98
        }
      ]
    },
    {
      "cell_type": "code",
      "source": [
        "attack_data['label'].value_counts()"
      ],
      "metadata": {
        "colab": {
          "base_uri": "https://localhost:8080/"
        },
        "id": "zqaBArZvIRbh",
        "outputId": "cce9dfe9-fde1-4133-c1f9-31562f435521"
      },
      "execution_count": 99,
      "outputs": [
        {
          "output_type": "execute_result",
          "data": {
            "text/plain": [
              "0    395298\n",
              "1     54621\n",
              "Name: label, dtype: int64"
            ]
          },
          "metadata": {},
          "execution_count": 99
        }
      ]
    },
    {
      "cell_type": "code",
      "source": [
        "f3 = np.append(f3, np.zeros(119))"
      ],
      "metadata": {
        "id": "SoLrdF1wIjdG"
      },
      "execution_count": 100,
      "outputs": []
    },
    {
      "cell_type": "code",
      "source": [
        "from sklearn.metrics import precision_score, recall_score, f1_score, accuracy_score, confusion_matrix\n",
        "print(f1_score(attack_data['label'], f3))\n",
        "print(recall_score(attack_data['label'], f3))\n",
        "print(confusion_matrix(attack_data['label'], f3))"
      ],
      "metadata": {
        "colab": {
          "base_uri": "https://localhost:8080/"
        },
        "id": "oXayH5bKaERr",
        "outputId": "d55d6627-e70b-4e1d-eab3-c2aa6ebdc1f6"
      },
      "execution_count": 101,
      "outputs": [
        {
          "output_type": "stream",
          "name": "stdout",
          "text": [
            "0.7620382828134363\n",
            "0.6169788176708592\n",
            "[[395172    126]\n",
            " [ 20921  33700]]\n"
          ]
        }
      ]
    },
    {
      "cell_type": "code",
      "source": [
        "pd.DataFrame(f3).to_csv('/content/drive/MyDrive/Colab_Notebooks/GTA/results/swat_gta_se.csv')"
      ],
      "metadata": {
        "id": "htUOdBrLJQ7E"
      },
      "execution_count": 102,
      "outputs": []
    },
    {
      "cell_type": "markdown",
      "source": [
        "---\n",
        "### HAI21.03"
      ],
      "metadata": {
        "id": "NgmDcwwMJbDf"
      }
    },
    {
      "cell_type": "code",
      "source": [
        "from pathlib import Path\n",
        "from datetime import *\n",
        "import numpy as np\n",
        "import os\n",
        "import pandas as pd\n",
        "\n",
        "def dataframe_from_csv(target):\n",
        "    return pd.read_csv(target).rename(columns=lambda x: x.strip())\n",
        "\n",
        "def dataframe_from_csvs(targets):\n",
        "    return pd.concat([dataframe_from_csv(x) for x in targets])"
      ],
      "metadata": {
        "id": "X7uJz1k0MR1y"
      },
      "execution_count": 108,
      "outputs": []
    },
    {
      "cell_type": "code",
      "source": [
        "hai_train_dataset = sorted([x for x in Path(\"/content/drive/MyDrive/Colab_Notebooks/HAI/data/New folder4/training\").glob(\"*.csv\")])\n",
        "hai_train = dataframe_from_csvs(hai_train_dataset)"
      ],
      "metadata": {
        "id": "mP6d0IYsJabb"
      },
      "execution_count": 109,
      "outputs": []
    },
    {
      "cell_type": "code",
      "source": [
        "hai_test_dataset = sorted([x for x in Path(\"/content/drive/MyDrive/Colab_Notebooks/HAI/data/New folder4/testing\").glob(\"*.csv\")])\n",
        "hai_test = dataframe_from_csvs(hai_test_dataset)"
      ],
      "metadata": {
        "id": "b1I--KEOM89u"
      },
      "execution_count": 111,
      "outputs": []
    },
    {
      "cell_type": "code",
      "source": [
        "import time\n",
        "hai_train[' Timestamp'] = pd.to_datetime(hai_train['time'])\n",
        "hai_test[' Timestamp'] = pd.to_datetime(hai_test['time'])\n",
        "for i in range(len(hai_train[' Timestamp'])):\n",
        "  hai_train[' Timestamp'].iloc[i] = time.mktime(hai_train[' Timestamp'].iloc[i].timetuple())\n",
        "for i in range(len(hai_test[' Timestamp'])):\n",
        "  hai_test[' Timestamp'].iloc[i] = time.mktime(hai_test[' Timestamp'].iloc[i].timetuple())"
      ],
      "metadata": {
        "colab": {
          "base_uri": "https://localhost:8080/"
        },
        "id": "FZsS8hc7M733",
        "outputId": "b270281f-b39c-4ead-c5a3-a1edbc470b63"
      },
      "execution_count": 114,
      "outputs": [
        {
          "output_type": "stream",
          "name": "stderr",
          "text": [
            "/usr/local/lib/python3.7/dist-packages/pandas/core/indexing.py:1732: SettingWithCopyWarning: \n",
            "A value is trying to be set on a copy of a slice from a DataFrame\n",
            "\n",
            "See the caveats in the documentation: https://pandas.pydata.org/pandas-docs/stable/user_guide/indexing.html#returning-a-view-versus-a-copy\n",
            "  self._setitem_single_block(indexer, value, name)\n"
          ]
        }
      ]
    },
    {
      "cell_type": "code",
      "source": [
        "hai_train.drop('time',axis=1, inplace = True)\n",
        "hai_test.drop('time',axis=1, inplace = True)"
      ],
      "metadata": {
        "id": "svHpxHUtMXDN"
      },
      "execution_count": 115,
      "outputs": []
    },
    {
      "cell_type": "code",
      "source": [
        "hai_train.to_csv('/content/drive/MyDrive/Colab_Notebooks/GTA/data/HAI/HAI_train_total.csv')"
      ],
      "metadata": {
        "id": "KgCyHjReNzh2"
      },
      "execution_count": 118,
      "outputs": []
    },
    {
      "cell_type": "code",
      "source": [
        "hai_test.to_csv('/content/drive/MyDrive/Colab_Notebooks/GTA/data/HAI/HAI_test_total.csv')"
      ],
      "metadata": {
        "id": "ieW_aDkQN1l-"
      },
      "execution_count": null,
      "outputs": []
    },
    {
      "cell_type": "code",
      "source": [
        "%cd /content/drive/MyDrive/Colab_Notebooks/GTA\n",
        "!python -u main_gta_dad.py --model gta --data HAI --root_path '/content/drive/MyDrive/Colab_Notebooks/GTA/data/HAI' --data_path 'HAI_train_total.csv'"
      ],
      "metadata": {
        "colab": {
          "base_uri": "https://localhost:8080/"
        },
        "id": "riNhgVd2wB5d",
        "outputId": "423dd304-da21-4951-db48-aa0b3fc9558f"
      },
      "execution_count": null,
      "outputs": [
        {
          "output_type": "stream",
          "name": "stdout",
          "text": [
            "/content/drive/MyDrive/Colab_Notebooks/GTA\n",
            "True\n",
            "Use GPU: cuda:0\n",
            ">>>>>>>start training : gta_HAI_ftM_sl60_ll30_pl1_nl3_dm124_nh8_el3_dl2_df124_atprob_ebfixed_test_0>>>>>>>>>>>>>>>>>>>>>>>>>>\n",
            "train 921543\n",
            "val 89641\n",
            "test 358744\n",
            "\titers: 100, epoch: 1 | loss: 5056.6788605\n",
            "\tspeed: 0.1462s/iter; left time: 3141.7474s\n",
            "\titers: 200, epoch: 1 | loss: 4992.6672935\n",
            "\tspeed: 0.1458s/iter; left time: 3118.5601s\n",
            "\titers: 300, epoch: 1 | loss: 4928.6617873\n",
            "\tspeed: 0.1459s/iter; left time: 3107.4124s\n",
            "\titers: 400, epoch: 1 | loss: 4864.6574066\n",
            "\tspeed: 0.1460s/iter; left time: 3093.7689s\n",
            "\titers: 500, epoch: 1 | loss: 4800.6546189\n",
            "\tspeed: 0.1452s/iter; left time: 3063.1096s\n",
            "\titers: 600, epoch: 1 | loss: 4736.6528907\n",
            "\tspeed: 0.1456s/iter; left time: 3057.6912s\n",
            "\titers: 700, epoch: 1 | loss: 4672.6510297\n",
            "\tspeed: 0.1458s/iter; left time: 3045.8512s\n",
            "\titers: 800, epoch: 1 | loss: 4608.6501615\n",
            "\tspeed: 0.1453s/iter; left time: 3021.5871s\n",
            "\titers: 900, epoch: 1 | loss: 4544.6489105\n",
            "\tspeed: 0.1456s/iter; left time: 3013.0802s\n",
            "\titers: 1000, epoch: 1 | loss: 4480.6483639\n",
            "\tspeed: 0.1458s/iter; left time: 3003.1958s\n",
            "\titers: 1100, epoch: 1 | loss: 4416.6475527\n",
            "\tspeed: 0.1474s/iter; left time: 3020.3036s\n",
            "\titers: 1200, epoch: 1 | loss: 4352.6473035\n",
            "\tspeed: 0.1456s/iter; left time: 2969.9890s\n",
            "\titers: 1300, epoch: 1 | loss: 4288.6468552\n",
            "\tspeed: 0.1461s/iter; left time: 2964.5848s\n",
            "\titers: 1400, epoch: 1 | loss: 4224.6460776\n",
            "\tspeed: 0.1459s/iter; left time: 2947.1583s\n",
            "\titers: 1500, epoch: 1 | loss: 4160.6461143\n",
            "\tspeed: 0.1462s/iter; left time: 2938.6027s\n",
            "\titers: 1600, epoch: 1 | loss: 4096.6455640\n",
            "\tspeed: 0.1462s/iter; left time: 2923.9167s\n",
            "\titers: 1700, epoch: 1 | loss: 4032.6454347\n",
            "\tspeed: 0.1452s/iter; left time: 2888.0886s\n",
            "\titers: 1800, epoch: 1 | loss: 3968.6451048\n",
            "\tspeed: 0.1457s/iter; left time: 2883.4632s\n",
            "\titers: 1900, epoch: 1 | loss: 3904.6450161\n",
            "\tspeed: 0.1465s/iter; left time: 2885.0065s\n",
            "\titers: 2000, epoch: 1 | loss: 3840.6449887\n",
            "\tspeed: 0.1458s/iter; left time: 2857.0091s\n",
            "\titers: 2100, epoch: 1 | loss: 3776.6444086\n",
            "\tspeed: 0.1459s/iter; left time: 2844.3349s\n",
            "\titers: 2200, epoch: 1 | loss: 3712.6440789\n",
            "\tspeed: 0.1457s/iter; left time: 2826.4320s\n",
            "\titers: 2300, epoch: 1 | loss: 3648.6441658\n",
            "\tspeed: 0.1460s/iter; left time: 2816.6339s\n",
            "\titers: 2400, epoch: 1 | loss: 3584.6437052\n",
            "\tspeed: 0.1456s/iter; left time: 2794.5401s\n",
            "\titers: 2500, epoch: 1 | loss: 3520.6437536\n",
            "\tspeed: 0.1462s/iter; left time: 2790.9978s\n",
            "\titers: 2600, epoch: 1 | loss: 3456.6434105\n",
            "\tspeed: 0.1455s/iter; left time: 2764.3815s\n",
            "\titers: 2700, epoch: 1 | loss: 3392.6434415\n",
            "\tspeed: 0.1457s/iter; left time: 2753.7532s\n",
            "\titers: 2800, epoch: 1 | loss: 3328.6431802\n",
            "\tspeed: 0.1454s/iter; left time: 2733.6961s\n",
            "\titers: 2900, epoch: 1 | loss: 3264.6431636\n",
            "\tspeed: 0.1459s/iter; left time: 2728.3137s\n",
            "\titers: 3000, epoch: 1 | loss: 3200.6430234\n",
            "\tspeed: 0.1458s/iter; left time: 2712.0241s\n",
            "\titers: 3100, epoch: 1 | loss: 3136.6427965\n",
            "\tspeed: 0.1465s/iter; left time: 2710.1293s\n",
            "\titers: 3200, epoch: 1 | loss: 3072.6427122\n",
            "\tspeed: 0.1461s/iter; left time: 2687.0086s\n",
            "\titers: 3300, epoch: 1 | loss: 3008.6427102\n",
            "\tspeed: 0.1455s/iter; left time: 2661.3922s\n",
            "\titers: 3400, epoch: 1 | loss: 2944.6424797\n",
            "\tspeed: 0.1450s/iter; left time: 2638.7545s\n",
            "\titers: 3500, epoch: 1 | loss: 2880.6424650\n",
            "\tspeed: 0.1455s/iter; left time: 2633.5440s\n",
            "Epoch: 1, Steps: 3599 | Train Loss: 3968.6496407 Vali Loss: 0.0263774 Test Loss: 0.0270200\n",
            "Validation loss decreased (inf --> 0.026377).  Saving model ...\n",
            "Updating learning rate to 0.0001\n",
            "\titers: 100, epoch: 2 | loss: 2753.2823481\n",
            "\tspeed: 1.2445s/iter; left time: 22271.0574s\n",
            "\titers: 200, epoch: 2 | loss: 2689.2823176\n",
            "\tspeed: 0.1461s/iter; left time: 2600.8613s\n",
            "\titers: 300, epoch: 2 | loss: 2625.2820246\n",
            "\tspeed: 0.1460s/iter; left time: 2583.6208s\n",
            "\titers: 400, epoch: 2 | loss: 2561.2820290\n",
            "\tspeed: 0.1456s/iter; left time: 2561.1017s\n",
            "\titers: 500, epoch: 2 | loss: 2497.2821203\n",
            "\tspeed: 0.1459s/iter; left time: 2553.4446s\n",
            "\titers: 600, epoch: 2 | loss: 2433.2820086\n",
            "\tspeed: 0.1463s/iter; left time: 2544.4738s\n",
            "\titers: 700, epoch: 2 | loss: 2369.2819552\n",
            "\tspeed: 0.1458s/iter; left time: 2522.0224s\n",
            "\titers: 800, epoch: 2 | loss: 2305.2818115\n",
            "\tspeed: 0.1464s/iter; left time: 2517.3079s\n",
            "\titers: 900, epoch: 2 | loss: 2241.2818677\n",
            "\tspeed: 0.1467s/iter; left time: 2507.3621s\n",
            "\titers: 1000, epoch: 2 | loss: 2177.2818774\n",
            "\tspeed: 0.1459s/iter; left time: 2480.0541s\n",
            "\titers: 1100, epoch: 2 | loss: 2113.2816977\n",
            "\tspeed: 0.1454s/iter; left time: 2455.8470s\n",
            "\titers: 1200, epoch: 2 | loss: 2049.2818338\n",
            "\tspeed: 0.1456s/iter; left time: 2445.9839s\n",
            "\titers: 1300, epoch: 2 | loss: 1985.2817302\n",
            "\tspeed: 0.1451s/iter; left time: 2422.9871s\n",
            "\titers: 1400, epoch: 2 | loss: 1921.2816706\n",
            "\tspeed: 0.1455s/iter; left time: 2415.2957s\n",
            "\titers: 1500, epoch: 2 | loss: 1857.2816511\n",
            "\tspeed: 0.1456s/iter; left time: 2402.1402s\n",
            "\titers: 1600, epoch: 2 | loss: 1793.2815614\n",
            "\tspeed: 0.1451s/iter; left time: 2378.4988s\n",
            "\titers: 1700, epoch: 2 | loss: 1729.2816420\n",
            "\tspeed: 0.1455s/iter; left time: 2370.3382s\n",
            "\titers: 1800, epoch: 2 | loss: 1665.2815433\n",
            "\tspeed: 0.1458s/iter; left time: 2360.7171s\n",
            "\titers: 1900, epoch: 2 | loss: 1601.2816099\n",
            "\tspeed: 0.1450s/iter; left time: 2333.4971s\n",
            "\titers: 2000, epoch: 2 | loss: 1537.2814824\n",
            "\tspeed: 0.1453s/iter; left time: 2324.2842s\n",
            "\titers: 2100, epoch: 2 | loss: 1473.2815105\n",
            "\tspeed: 0.1451s/iter; left time: 2306.5229s\n",
            "\titers: 2200, epoch: 2 | loss: 1409.2814911\n",
            "\tspeed: 0.1454s/iter; left time: 2297.5084s\n",
            "\titers: 2300, epoch: 2 | loss: 1345.2814420\n",
            "\tspeed: 0.1449s/iter; left time: 2274.8997s\n",
            "\titers: 2400, epoch: 2 | loss: 1281.2815304\n",
            "\tspeed: 0.1445s/iter; left time: 2253.0404s\n",
            "\titers: 2500, epoch: 2 | loss: 1217.2813841\n",
            "\tspeed: 0.1447s/iter; left time: 2242.6601s\n",
            "\titers: 2600, epoch: 2 | loss: 1153.2813848\n",
            "\tspeed: 0.1457s/iter; left time: 2243.8031s\n",
            "\titers: 2700, epoch: 2 | loss: 1089.2814266\n",
            "\tspeed: 0.1452s/iter; left time: 2220.8562s\n",
            "\titers: 2800, epoch: 2 | loss: 1025.2813822\n",
            "\tspeed: 0.1453s/iter; left time: 2207.3339s\n",
            "\titers: 2900, epoch: 2 | loss: 961.2815335\n",
            "\tspeed: 0.1452s/iter; left time: 2191.5835s\n",
            "\titers: 3000, epoch: 2 | loss: 897.2812634\n",
            "\tspeed: 0.1469s/iter; left time: 2203.1792s\n",
            "\titers: 3100, epoch: 2 | loss: 833.2812391\n",
            "\tspeed: 0.1453s/iter; left time: 2164.0099s\n",
            "\titers: 3200, epoch: 2 | loss: 769.2813466\n",
            "\tspeed: 0.1449s/iter; left time: 2144.1594s\n",
            "\titers: 3300, epoch: 2 | loss: 705.2812167\n",
            "\tspeed: 0.1451s/iter; left time: 2132.6929s\n",
            "\titers: 3400, epoch: 2 | loss: 641.2812811\n",
            "\tspeed: 0.1459s/iter; left time: 2129.2741s\n",
            "\titers: 3500, epoch: 2 | loss: 577.2812092\n",
            "\tspeed: 0.1452s/iter; left time: 2104.7599s\n",
            "Epoch: 2, Steps: 3599 | Train Loss: 1665.2816482 Vali Loss: 0.0225029 Test Loss: 0.0229189\n",
            "Validation loss decreased (0.026377 --> 0.022503).  Saving model ...\n",
            "Updating learning rate to 5e-05\n",
            "\titers: 100, epoch: 3 | loss: 481.6012096\n",
            "\tspeed: 1.2445s/iter; left time: 17793.2661s\n",
            "\titers: 200, epoch: 3 | loss: 449.6012484\n",
            "\tspeed: 0.1455s/iter; left time: 2065.8027s\n",
            "\titers: 300, epoch: 3 | loss: 417.6012150\n",
            "\tspeed: 0.1457s/iter; left time: 2054.4725s\n",
            "\titers: 400, epoch: 3 | loss: 385.6011200\n",
            "\tspeed: 0.1464s/iter; left time: 2048.5470s\n",
            "\titers: 500, epoch: 3 | loss: 353.6012929\n",
            "\tspeed: 0.1455s/iter; left time: 2022.5249s\n",
            "\titers: 600, epoch: 3 | loss: 321.6012504\n",
            "\tspeed: 0.1459s/iter; left time: 2013.2449s\n",
            "\titers: 700, epoch: 3 | loss: 289.6019149\n",
            "\tspeed: 0.1451s/iter; left time: 1986.8652s\n",
            "\titers: 800, epoch: 3 | loss: 257.6014198\n",
            "\tspeed: 0.1468s/iter; left time: 1996.0466s\n",
            "\titers: 900, epoch: 3 | loss: 225.6015635\n",
            "\tspeed: 0.1455s/iter; left time: 1964.4362s\n",
            "\titers: 1000, epoch: 3 | loss: 193.6012104\n",
            "\tspeed: 0.1462s/iter; left time: 1958.6661s\n",
            "\titers: 1100, epoch: 3 | loss: 161.6011672\n",
            "\tspeed: 0.1450s/iter; left time: 1927.8522s\n",
            "\titers: 1200, epoch: 3 | loss: 129.6012171\n",
            "\tspeed: 0.1454s/iter; left time: 1918.7510s\n",
            "\titers: 1300, epoch: 3 | loss: 97.6011952\n",
            "\tspeed: 0.1451s/iter; left time: 1900.2574s\n",
            "\titers: 1400, epoch: 3 | loss: 65.6011675\n",
            "\tspeed: 0.1446s/iter; left time: 1879.4007s\n",
            "\titers: 1500, epoch: 3 | loss: 33.6011553\n",
            "\tspeed: 0.1450s/iter; left time: 1870.1665s\n",
            "\titers: 1600, epoch: 3 | loss: 1.6011255\n",
            "\tspeed: 0.1445s/iter; left time: 1848.6339s\n",
            "\titers: 1700, epoch: 3 | loss: 0.1360786\n",
            "\tspeed: 0.1444s/iter; left time: 1833.0963s\n",
            "\titers: 1800, epoch: 3 | loss: 0.0201937\n",
            "\tspeed: 0.1449s/iter; left time: 1825.8427s\n",
            "\titers: 1900, epoch: 3 | loss: 0.1389546\n",
            "\tspeed: 0.1449s/iter; left time: 1811.2163s\n",
            "\titers: 2000, epoch: 3 | loss: 0.1360724\n",
            "\tspeed: 0.1453s/iter; left time: 1801.1111s\n",
            "\titers: 2100, epoch: 3 | loss: 0.0201891\n",
            "\tspeed: 0.1448s/iter; left time: 1781.0925s\n",
            "\titers: 2200, epoch: 3 | loss: 0.1389610\n",
            "\tspeed: 0.1439s/iter; left time: 1755.6054s\n",
            "\titers: 2300, epoch: 3 | loss: 0.1359996\n",
            "\tspeed: 0.1445s/iter; left time: 1748.3619s\n",
            "\titers: 2400, epoch: 3 | loss: 0.0202577\n",
            "\tspeed: 0.1443s/iter; left time: 1731.6796s\n",
            "\titers: 2500, epoch: 3 | loss: 0.1390526\n",
            "\tspeed: 0.1465s/iter; left time: 1742.6987s\n",
            "\titers: 2600, epoch: 3 | loss: 0.1360170\n",
            "\tspeed: 0.1451s/iter; left time: 1712.1273s\n",
            "\titers: 2700, epoch: 3 | loss: 0.0201734\n",
            "\tspeed: 0.1450s/iter; left time: 1696.5724s\n",
            "\titers: 2800, epoch: 3 | loss: 0.1388967\n",
            "\tspeed: 0.1454s/iter; left time: 1686.3042s\n",
            "\titers: 2900, epoch: 3 | loss: 0.1360250\n",
            "\tspeed: 0.1454s/iter; left time: 1671.8873s\n",
            "\titers: 3000, epoch: 3 | loss: 0.0201267\n",
            "\tspeed: 0.1453s/iter; left time: 1656.1112s\n",
            "\titers: 3100, epoch: 3 | loss: 0.1388799\n",
            "\tspeed: 0.1448s/iter; left time: 1635.8973s\n",
            "\titers: 3200, epoch: 3 | loss: 0.1361033\n",
            "\tspeed: 0.1443s/iter; left time: 1615.4259s\n",
            "\titers: 3300, epoch: 3 | loss: 0.0202655\n",
            "\tspeed: 0.1452s/iter; left time: 1611.0564s\n",
            "\titers: 3400, epoch: 3 | loss: 0.1388505\n",
            "\tspeed: 0.1458s/iter; left time: 1603.6727s\n",
            "\titers: 3500, epoch: 3 | loss: 0.1361741\n",
            "\tspeed: 0.1452s/iter; left time: 1582.1647s\n",
            "Epoch: 3, Steps: 3599 | Train Loss: 114.5119647 Vali Loss: 0.0222013 Test Loss: 0.0225858\n",
            "Validation loss decreased (0.022503 --> 0.022201).  Saving model ...\n",
            "Updating learning rate to 2.5e-05\n",
            "\titers: 100, epoch: 4 | loss: 0.0170485\n",
            "\tspeed: 1.2451s/iter; left time: 13320.0860s\n",
            "\titers: 200, epoch: 4 | loss: 0.0178031\n",
            "\tspeed: 0.1453s/iter; left time: 1539.4280s\n",
            "\titers: 300, epoch: 4 | loss: 0.0155267\n",
            "\tspeed: 0.1457s/iter; left time: 1529.9827s\n",
            "\titers: 400, epoch: 4 | loss: 0.0101697\n",
            "\tspeed: 0.1470s/iter; left time: 1528.5109s\n",
            "\titers: 500, epoch: 4 | loss: 0.0067000\n",
            "\tspeed: 0.1458s/iter; left time: 1501.1955s\n",
            "\titers: 600, epoch: 4 | loss: 0.0044670\n",
            "\tspeed: 0.1475s/iter; left time: 1504.6067s\n",
            "\titers: 700, epoch: 4 | loss: 0.0029423\n",
            "\tspeed: 0.1487s/iter; left time: 1501.7982s\n",
            "\titers: 800, epoch: 4 | loss: 0.0019273\n",
            "\tspeed: 0.1476s/iter; left time: 1476.0795s\n",
            "\titers: 900, epoch: 4 | loss: 0.0065378\n",
            "\tspeed: 0.1479s/iter; left time: 1464.1312s\n",
            "\titers: 1000, epoch: 4 | loss: 0.0110243\n",
            "\tspeed: 0.1476s/iter; left time: 1446.1516s\n",
            "\titers: 1100, epoch: 4 | loss: 0.0138833\n",
            "\tspeed: 0.1477s/iter; left time: 1431.9341s\n",
            "\titers: 1200, epoch: 4 | loss: 0.0157795\n",
            "\tspeed: 0.1483s/iter; left time: 1423.5191s\n",
            "\titers: 1300, epoch: 4 | loss: 0.0170830\n",
            "\tspeed: 0.1492s/iter; left time: 1416.8283s\n",
            "\titers: 1400, epoch: 4 | loss: 0.0178653\n",
            "\tspeed: 0.1473s/iter; left time: 1383.9217s\n",
            "\titers: 1500, epoch: 4 | loss: 0.0154149\n",
            "\tspeed: 0.1485s/iter; left time: 1380.4680s\n",
            "\titers: 1600, epoch: 4 | loss: 0.0101546\n",
            "\tspeed: 0.1483s/iter; left time: 1364.3117s\n",
            "\titers: 1700, epoch: 4 | loss: 0.0067403\n",
            "\tspeed: 0.1484s/iter; left time: 1350.4384s\n",
            "\titers: 1800, epoch: 4 | loss: 0.0044960\n",
            "\tspeed: 0.1479s/iter; left time: 1330.7908s\n",
            "\titers: 1900, epoch: 4 | loss: 0.0029426\n",
            "\tspeed: 0.1481s/iter; left time: 1318.1964s\n",
            "\titers: 2000, epoch: 4 | loss: 0.0019555\n",
            "\tspeed: 0.1480s/iter; left time: 1302.3900s\n",
            "\titers: 2100, epoch: 4 | loss: 0.0065429\n",
            "\tspeed: 0.1474s/iter; left time: 1282.1473s\n",
            "\titers: 2200, epoch: 4 | loss: 0.0111381\n",
            "\tspeed: 0.1478s/iter; left time: 1270.6106s\n",
            "\titers: 2300, epoch: 4 | loss: 0.0138828\n",
            "\tspeed: 0.1479s/iter; left time: 1257.0567s\n",
            "\titers: 2400, epoch: 4 | loss: 0.0157717\n",
            "\tspeed: 0.1485s/iter; left time: 1247.2749s\n",
            "\titers: 2500, epoch: 4 | loss: 0.0171146\n",
            "\tspeed: 0.1485s/iter; left time: 1232.3743s\n",
            "\titers: 2600, epoch: 4 | loss: 0.0178852\n",
            "\tspeed: 0.1489s/iter; left time: 1220.7269s\n",
            "\titers: 2700, epoch: 4 | loss: 0.0154390\n",
            "\tspeed: 0.1486s/iter; left time: 1203.2412s\n",
            "\titers: 2800, epoch: 4 | loss: 0.0101946\n",
            "\tspeed: 0.1476s/iter; left time: 1180.4790s\n",
            "\titers: 2900, epoch: 4 | loss: 0.0065818\n",
            "\tspeed: 0.1478s/iter; left time: 1167.1409s\n",
            "\titers: 3000, epoch: 4 | loss: 0.0044736\n",
            "\tspeed: 0.1472s/iter; left time: 1147.9765s\n",
            "\titers: 3100, epoch: 4 | loss: 0.0028843\n",
            "\tspeed: 0.1451s/iter; left time: 1117.3471s\n",
            "\titers: 3200, epoch: 4 | loss: 0.0018805\n",
            "\tspeed: 0.1456s/iter; left time: 1106.5764s\n",
            "\titers: 3300, epoch: 4 | loss: 0.0064809\n",
            "\tspeed: 0.1450s/iter; left time: 1087.3650s\n",
            "\titers: 3400, epoch: 4 | loss: 0.0109407\n",
            "\tspeed: 0.1450s/iter; left time: 1072.4246s\n",
            "\titers: 3500, epoch: 4 | loss: 0.0139219\n",
            "\tspeed: 0.1448s/iter; left time: 1056.5966s\n",
            "Epoch: 4, Steps: 3599 | Train Loss: 0.0093177 Vali Loss: 0.0218659 Test Loss: 0.0222770\n",
            "Validation loss decreased (0.022201 --> 0.021866).  Saving model ...\n",
            "Updating learning rate to 1.25e-05\n",
            "\titers: 100, epoch: 5 | loss: 0.0095424\n",
            "\tspeed: 1.2655s/iter; left time: 8983.8169s\n",
            "\titers: 200, epoch: 5 | loss: 0.0055964\n",
            "\tspeed: 0.1474s/iter; left time: 1031.8889s\n",
            "\titers: 300, epoch: 5 | loss: 0.0208226\n",
            "\tspeed: 0.1483s/iter; left time: 1023.3296s\n",
            "\titers: 400, epoch: 5 | loss: 0.0137520\n",
            "\tspeed: 0.1473s/iter; left time: 1001.5382s\n",
            "\titers: 500, epoch: 5 | loss: 0.0165088\n",
            "\tspeed: 0.1485s/iter; left time: 994.4793s\n",
            "\titers: 600, epoch: 5 | loss: 0.0141422\n",
            "\tspeed: 0.1477s/iter; left time: 974.7323s\n",
            "\titers: 700, epoch: 5 | loss: 0.0101825\n",
            "\tspeed: 0.1485s/iter; left time: 964.8113s\n",
            "\titers: 800, epoch: 5 | loss: 0.0011016\n",
            "\tspeed: 0.1480s/iter; left time: 946.8214s\n",
            "\titers: 900, epoch: 5 | loss: 0.0065767\n",
            "\tspeed: 0.1481s/iter; left time: 932.9178s\n",
            "\titers: 1000, epoch: 5 | loss: 0.0056289\n",
            "\tspeed: 0.1480s/iter; left time: 917.6683s\n",
            "\titers: 1100, epoch: 5 | loss: 0.0010475\n",
            "\tspeed: 0.1482s/iter; left time: 903.7761s\n",
            "\titers: 1200, epoch: 5 | loss: 0.0071788\n",
            "\tspeed: 0.1479s/iter; left time: 887.5158s\n",
            "\titers: 1300, epoch: 5 | loss: 0.0048890\n",
            "\tspeed: 0.1484s/iter; left time: 875.6533s\n",
            "\titers: 1400, epoch: 5 | loss: 0.0018079\n",
            "\tspeed: 0.1479s/iter; left time: 857.5975s\n",
            "\titers: 1500, epoch: 5 | loss: 0.0080912\n",
            "\tspeed: 0.1486s/iter; left time: 846.8625s\n",
            "\titers: 1600, epoch: 5 | loss: 0.0036889\n",
            "\tspeed: 0.1479s/iter; left time: 827.9304s\n",
            "\titers: 1700, epoch: 5 | loss: 0.0032948\n",
            "\tspeed: 0.1485s/iter; left time: 816.8248s\n",
            "\titers: 1800, epoch: 5 | loss: 0.0095541\n",
            "\tspeed: 0.1480s/iter; left time: 799.1357s\n",
            "\titers: 1900, epoch: 5 | loss: 0.0055853\n",
            "\tspeed: 0.1485s/iter; left time: 786.9695s\n",
            "\titers: 2000, epoch: 5 | loss: 0.0207794\n",
            "\tspeed: 0.1474s/iter; left time: 766.5582s\n",
            "\titers: 2100, epoch: 5 | loss: 0.0137796\n",
            "\tspeed: 0.1449s/iter; left time: 738.6002s\n",
            "\titers: 2200, epoch: 5 | loss: 0.0164122\n",
            "\tspeed: 0.1447s/iter; left time: 723.3209s\n",
            "\titers: 2300, epoch: 5 | loss: 0.0141888\n",
            "\tspeed: 0.1449s/iter; left time: 710.0843s\n",
            "\titers: 2400, epoch: 5 | loss: 0.0101556\n",
            "\tspeed: 0.1454s/iter; left time: 697.7994s\n",
            "\titers: 2500, epoch: 5 | loss: 0.0010277\n",
            "\tspeed: 0.1464s/iter; left time: 688.1662s\n",
            "\titers: 2600, epoch: 5 | loss: 0.0065895\n",
            "\tspeed: 0.1450s/iter; left time: 667.0095s\n",
            "\titers: 2700, epoch: 5 | loss: 0.0055621\n",
            "\tspeed: 0.1455s/iter; left time: 654.7130s\n",
            "\titers: 2800, epoch: 5 | loss: 0.0010136\n",
            "\tspeed: 0.1453s/iter; left time: 639.3696s\n",
            "\titers: 2900, epoch: 5 | loss: 0.0069978\n",
            "\tspeed: 0.1455s/iter; left time: 625.5199s\n",
            "\titers: 3000, epoch: 5 | loss: 0.0050809\n",
            "\tspeed: 0.1469s/iter; left time: 616.6304s\n"
          ]
        }
      ]
    },
    {
      "cell_type": "code",
      "source": [
        "import numpy as np\n",
        "import pandas as pd"
      ],
      "metadata": {
        "id": "zu5wSlHgonU5"
      },
      "execution_count": 20,
      "outputs": []
    },
    {
      "cell_type": "code",
      "source": [
        "hai_train = pd.read_csv('/content/drive/MyDrive/Colab_Notebooks/GTA/data/HAI/HAI_train_total.csv', index_col=[0])"
      ],
      "metadata": {
        "id": "I92mv_OQuTwS"
      },
      "execution_count": 305,
      "outputs": []
    },
    {
      "cell_type": "code",
      "source": [
        "hai_pred = np.load('/content/drive/MyDrive/Colab_Notebooks/GTA/results/gta_HAI_ftM_sl60_ll30_pl1_nl3_dm124_nh8_el3_dl2_df124_atprob_ebfixed_test_0/pred.npy')\n",
        "hai_true = np.load('/content/drive/MyDrive/Colab_Notebooks/GTA/results/gta_HAI_ftM_sl60_ll30_pl1_nl3_dm124_nh8_el3_dl2_df124_atprob_ebfixed_test_0/true.npy')"
      ],
      "metadata": {
        "id": "t1ql7EL8wrhQ"
      },
      "execution_count": 289,
      "outputs": []
    },
    {
      "cell_type": "code",
      "source": [
        "import torch\n",
        "import torch.nn as nn\n",
        "hai_f = hai_pred"
      ],
      "metadata": {
        "id": "5mvwu2pHQ-Zi"
      },
      "execution_count": 290,
      "outputs": []
    },
    {
      "cell_type": "code",
      "source": [
        "for i in range(len(hai_true)):\n",
        "  hai_f[i] = ((hai_pred[i] - hai_true[i])**2).sum()"
      ],
      "metadata": {
        "id": "tDPD2NJwRBmg"
      },
      "execution_count": 291,
      "outputs": []
    },
    {
      "cell_type": "code",
      "source": [
        "hai_f"
      ],
      "metadata": {
        "colab": {
          "base_uri": "https://localhost:8080/"
        },
        "id": "HyuUl3LVuEtZ",
        "outputId": "84803890-5574-4d50-af41-fe5006bfe8b7"
      },
      "execution_count": 302,
      "outputs": [
        {
          "output_type": "execute_result",
          "data": {
            "text/plain": [
              "array([[[12.86742751, 12.86742751, 12.86742751, ..., 12.86742751,\n",
              "         12.86742751, 12.86742751]],\n",
              "\n",
              "       [[12.8138353 , 12.8138353 , 12.8138353 , ..., 12.8138353 ,\n",
              "         12.8138353 , 12.8138353 ]],\n",
              "\n",
              "       [[12.81535812, 12.81535812, 12.81535812, ..., 12.81535812,\n",
              "         12.81535812, 12.81535812]],\n",
              "\n",
              "       ...,\n",
              "\n",
              "       [[ 6.50350192,  6.50350192,  6.50350192, ...,  6.50350192,\n",
              "          6.50350192,  6.50350192]],\n",
              "\n",
              "       [[ 6.52865291,  6.52865291,  6.52865291, ...,  6.52865291,\n",
              "          6.52865291,  6.52865291]],\n",
              "\n",
              "       [[ 6.70195999,  6.70195999,  6.70195999, ...,  6.70195999,\n",
              "          6.70195999,  6.70195999]]])"
            ]
          },
          "metadata": {},
          "execution_count": 302
        }
      ]
    },
    {
      "cell_type": "code",
      "source": [
        "f1 = torch.from_numpy(hai_f)\n",
        "mp1 = nn.MaxPool1d(80)\n",
        "f1 = f1.squeeze()\n",
        "f1 = mp1(f1)\n",
        "f1 = f1.squeeze()\n",
        "f2 = f1.numpy()\n",
        "f3 = np.where(f2 > 7, 0, 1)\n",
        "f3 = np.append(f3, np.zeros(148))"
      ],
      "metadata": {
        "id": "S_UcbILqx1Dn"
      },
      "execution_count": 294,
      "outputs": []
    },
    {
      "cell_type": "code",
      "source": [
        "pd.DataFrame(f3).value_counts()"
      ],
      "metadata": {
        "colab": {
          "base_uri": "https://localhost:8080/"
        },
        "id": "go2_HpqfQJBh",
        "outputId": "98bf291f-77cb-43ab-b7bf-e93f1652e635"
      },
      "execution_count": 295,
      "outputs": [
        {
          "output_type": "execute_result",
          "data": {
            "text/plain": [
              "0.0    335896\n",
              "1.0     22908\n",
              "dtype: int64"
            ]
          },
          "metadata": {},
          "execution_count": 295
        }
      ]
    },
    {
      "cell_type": "code",
      "source": [
        "hai_test['attack'].value_counts()"
      ],
      "metadata": {
        "colab": {
          "base_uri": "https://localhost:8080/"
        },
        "id": "0Y6pdo89QFKW",
        "outputId": "877078dc-1522-41db-dcf1-56fb33ecf491"
      },
      "execution_count": 296,
      "outputs": [
        {
          "output_type": "execute_result",
          "data": {
            "text/plain": [
              "0    350486\n",
              "1      8318\n",
              "Name: attack, dtype: int64"
            ]
          },
          "metadata": {},
          "execution_count": 296
        }
      ]
    },
    {
      "cell_type": "code",
      "source": [
        "from sklearn.metrics import precision_score, recall_score, f1_score, accuracy_score, confusion_matrix\n",
        "print(f1_score(hai_test['attack'], f3))\n",
        "print(recall_score(hai_test['attack'], f3))\n",
        "print(confusion_matrix(hai_test['attack'], f3))"
      ],
      "metadata": {
        "colab": {
          "base_uri": "https://localhost:8080/"
        },
        "id": "_D1L0F3gy1Uu",
        "outputId": "0021908f-0c02-4d97-af7c-893ac9e01aae"
      },
      "execution_count": 297,
      "outputs": [
        {
          "output_type": "stream",
          "name": "stdout",
          "text": [
            "0.018254019086658555\n",
            "0.03426304400096177\n",
            "[[327863  22623]\n",
            " [  8033    285]]\n"
          ]
        }
      ]
    },
    {
      "cell_type": "code",
      "source": [
        ""
      ],
      "metadata": {
        "id": "Ue-lM6BYQC-e"
      },
      "execution_count": null,
      "outputs": []
    }
  ],
  "metadata": {
    "accelerator": "GPU",
    "colab": {
      "background_execution": "on",
      "collapsed_sections": [
        "kHm5ne5z-wvA"
      ],
      "machine_shape": "hm",
      "name": "GTA_wadi.ipynb",
      "provenance": [],
      "authorship_tag": "ABX9TyOthQ0BiR66uh58YWdCXhLr",
      "include_colab_link": true
    },
    "kernelspec": {
      "display_name": "Python 3",
      "name": "python3"
    },
    "language_info": {
      "name": "python"
    }
  },
  "nbformat": 4,
  "nbformat_minor": 0
}