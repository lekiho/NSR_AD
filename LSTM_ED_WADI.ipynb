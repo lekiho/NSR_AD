{
  "nbformat": 4,
  "nbformat_minor": 0,
  "metadata": {
    "colab": {
      "name": "LSTM-ED_WADI",
      "provenance": [],
      "machine_shape": "hm",
      "background_execution": "on",
      "authorship_tag": "ABX9TyOrK0ZFziQVHYFdm9HGKHTL",
      "include_colab_link": true
    },
    "kernelspec": {
      "name": "python3",
      "display_name": "Python 3"
    },
    "language_info": {
      "name": "python"
    },
    "accelerator": "GPU"
  },
  "cells": [
    {
      "cell_type": "markdown",
      "metadata": {
        "id": "view-in-github",
        "colab_type": "text"
      },
      "source": [
        "<a href=\"https://colab.research.google.com/github/lekiho/GTA1/blob/main/LSTM_ED_WADI.ipynb\" target=\"_parent\"><img src=\"https://colab.research.google.com/assets/colab-badge.svg\" alt=\"Open In Colab\"/></a>"
      ]
    },
    {
      "cell_type": "code",
      "execution_count": 1,
      "metadata": {
        "colab": {
          "base_uri": "https://localhost:8080/"
        },
        "id": "w1mubPchF03a",
        "outputId": "7a19bee9-b680-4691-d850-44dc94b7ed3d"
      },
      "outputs": [
        {
          "output_type": "stream",
          "name": "stdout",
          "text": [
            "Mounted at /content/drive\n"
          ]
        }
      ],
      "source": [
        "import os, sys\n",
        "from google.colab import drive\n",
        "drive.mount('/content/drive')\n",
        "my_path = '/content/notebooks'"
      ]
    },
    {
      "cell_type": "code",
      "source": [
        "# !git clone https://github.com/KDD-OpenSource/DeepADoTS.git"
      ],
      "metadata": {
        "colab": {
          "base_uri": "https://localhost:8080/"
        },
        "id": "ql78Dg1PGF6c",
        "outputId": "62194415-6da0-46a0-ff21-277e500a93e3"
      },
      "execution_count": 4,
      "outputs": [
        {
          "output_type": "stream",
          "name": "stdout",
          "text": [
            "/content/drive/MyDrive/Colab_Notebooks/DeepADoTS\n"
          ]
        }
      ]
    },
    {
      "cell_type": "code",
      "source": [
        "# !pip install -r requirements.txt --target='/content/drive/MyDrive/Colab_Notebooks/DeepADoTS/enviro'\n",
        "# !pip install tensorflow==1.15.5 --target='/content/drive/MyDrive/Colab_Notebooks/DeepADoTS/enviro'\n",
        "# !pip install donut --target='/content/drive/MyDrive/Colab_Notebooks/DeepADoTS/enviro'"
      ],
      "metadata": {
        "id": "K8cHrHOrGToM"
      },
      "execution_count": null,
      "outputs": []
    },
    {
      "cell_type": "code",
      "source": [
        "%cd /content/drive/MyDrive/Colab_Notebooks/DeepADoTS\n",
        "sys.path.append('/content/drive/MyDrive/Colab_Notebooks/DeepADoTS')\n",
        "import enviro\n",
        "import numpy as np\n",
        "import pandas as pd\n",
        "import tensorflow as tf\n",
        "from sklearn.metrics import roc_auc_score\n",
        "\n",
        "from src.algorithms import lstm_enc_dec_axl\n",
        "# from src.datasets import Dataset"
      ],
      "metadata": {
        "colab": {
          "base_uri": "https://localhost:8080/"
        },
        "id": "w3qKVgEkGrw7",
        "outputId": "5e529ca5-d0b3-40e0-8073-626f0d76030c"
      },
      "execution_count": 14,
      "outputs": [
        {
          "output_type": "stream",
          "name": "stdout",
          "text": [
            "/content/drive/MyDrive/Colab_Notebooks/DeepADoTS\n"
          ]
        }
      ]
    },
    {
      "cell_type": "code",
      "source": [
        "train = pd.read_csv('/content/drive/MyDrive/Colab_Notebooks/GTA/data/rename/WADI_14days_colab.csv', index_col = [0])\n",
        "test = pd.read_csv('/content/drive/MyDrive/Colab_Notebooks/GTA/data/rename/WADI_attackdata_colab.csv', index_col = [0])"
      ],
      "metadata": {
        "id": "fb50UtrPGywN"
      },
      "execution_count": 15,
      "outputs": []
    },
    {
      "cell_type": "code",
      "source": [
        "x_train = train.drop('Timestamp', axis=1)\n",
        "x_test = pd.DataFrame(np.ones(len(x_train)))"
      ],
      "metadata": {
        "id": "Vmz0u5SvGypA"
      },
      "execution_count": 33,
      "outputs": []
    },
    {
      "cell_type": "code",
      "source": [
        "y_train = test.drop(['Timestamp','label'],axis=1)\n",
        "y_test = pd.DataFrame(test['label'])"
      ],
      "metadata": {
        "id": "qATrWNfKQz1r"
      },
      "execution_count": 37,
      "outputs": []
    },
    {
      "cell_type": "code",
      "source": [
        "# x_train, y_train, x_test, y_test = lstm_enc_dec_axl().data()"
      ],
      "metadata": {
        "id": "SG1xyyIzRdyf"
      },
      "execution_count": 42,
      "outputs": []
    },
    {
      "cell_type": "code",
      "source": [
        "model = lstm_enc_dec_axl.LSTMED(batch_size=2000)"
      ],
      "metadata": {
        "id": "ww5tJKmNRduJ"
      },
      "execution_count": 47,
      "outputs": []
    },
    {
      "cell_type": "code",
      "source": [
        "model.fit(x_train)"
      ],
      "metadata": {
        "colab": {
          "base_uri": "https://localhost:8080/"
        },
        "id": "Hj8RJWeDRdoY",
        "outputId": "8bc84eda-269f-4693-e2c6-b097e9c3a8b1"
      },
      "execution_count": null,
      "outputs": [
        {
          "output_type": "stream",
          "name": "stderr",
          "text": [
            "\r  0%|          | 0/10 [00:00<?, ?it/s]/usr/local/lib/python3.7/dist-packages/torch/nn/_reduction.py:42: UserWarning: size_average and reduce args will be deprecated, please use reduction='sum' instead.\n",
            "  warnings.warn(warning.format(ret))\n",
            " 10%|█         | 1/10 [01:35<14:17, 95.23s/it]"
          ]
        }
      ]
    },
    {
      "cell_type": "code",
      "source": [
        ""
      ],
      "metadata": {
        "id": "8SiI1NUwSVBe"
      },
      "execution_count": null,
      "outputs": []
    }
  ]
}