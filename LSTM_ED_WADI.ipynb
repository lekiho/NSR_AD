{
  "nbformat": 4,
  "nbformat_minor": 0,
  "metadata": {
    "colab": {
      "name": "LSTM-ED_WADI",
      "provenance": [],
      "collapsed_sections": [],
      "machine_shape": "hm",
      "background_execution": "on",
      "authorship_tag": "ABX9TyNGF60OsbLCP3d+hilJFEur",
      "include_colab_link": true
    },
    "kernelspec": {
      "name": "python3",
      "display_name": "Python 3"
    },
    "language_info": {
      "name": "python"
    },
    "accelerator": "GPU"
  },
  "cells": [
    {
      "cell_type": "markdown",
      "metadata": {
        "id": "view-in-github",
        "colab_type": "text"
      },
      "source": [
        "<a href=\"https://colab.research.google.com/github/lekiho/NSR_AD/blob/main/LSTM_ED_WADI.ipynb\" target=\"_parent\"><img src=\"https://colab.research.google.com/assets/colab-badge.svg\" alt=\"Open In Colab\"/></a>"
      ]
    },
    {
      "cell_type": "code",
      "execution_count": 1,
      "metadata": {
        "colab": {
          "base_uri": "https://localhost:8080/"
        },
        "id": "w1mubPchF03a",
        "outputId": "7a19bee9-b680-4691-d850-44dc94b7ed3d"
      },
      "outputs": [
        {
          "output_type": "stream",
          "name": "stdout",
          "text": [
            "Mounted at /content/drive\n"
          ]
        }
      ],
      "source": [
        "import os, sys\n",
        "from google.colab import drive\n",
        "drive.mount('/content/drive')\n",
        "my_path = '/content/notebooks'"
      ]
    },
    {
      "cell_type": "code",
      "source": [
        "# !git clone https://github.com/KDD-OpenSource/DeepADoTS.git"
      ],
      "metadata": {
        "colab": {
          "base_uri": "https://localhost:8080/"
        },
        "id": "ql78Dg1PGF6c",
        "outputId": "62194415-6da0-46a0-ff21-277e500a93e3"
      },
      "execution_count": 4,
      "outputs": [
        {
          "output_type": "stream",
          "name": "stdout",
          "text": [
            "/content/drive/MyDrive/Colab_Notebooks/DeepADoTS\n"
          ]
        }
      ]
    },
    {
      "cell_type": "code",
      "source": [
        "# !pip install -r requirements.txt --target='/content/drive/MyDrive/Colab_Notebooks/DeepADoTS/enviro'\n",
        "# !pip install tensorflow==1.15.5 --target='/content/drive/MyDrive/Colab_Notebooks/DeepADoTS/enviro'\n",
        "# !pip install donut --target='/content/drive/MyDrive/Colab_Notebooks/DeepADoTS/enviro'"
      ],
      "metadata": {
        "id": "K8cHrHOrGToM"
      },
      "execution_count": null,
      "outputs": []
    },
    {
      "cell_type": "code",
      "source": [
        "%cd /content/drive/MyDrive/Colab_Notebooks/DeepADoTS\n",
        "sys.path.append('/content/drive/MyDrive/Colab_Notebooks/DeepADoTS')\n",
        "import enviro\n",
        "import numpy as np\n",
        "import pandas as pd\n",
        "import tensorflow as tf\n",
        "from sklearn.metrics import roc_auc_score\n",
        "\n",
        "from src.algorithms import lstm_enc_dec_axl\n",
        "# from src.datasets import Dataset"
      ],
      "metadata": {
        "colab": {
          "base_uri": "https://localhost:8080/"
        },
        "id": "w3qKVgEkGrw7",
        "outputId": "5e529ca5-d0b3-40e0-8073-626f0d76030c"
      },
      "execution_count": 14,
      "outputs": [
        {
          "output_type": "stream",
          "name": "stdout",
          "text": [
            "/content/drive/MyDrive/Colab_Notebooks/DeepADoTS\n"
          ]
        }
      ]
    },
    {
      "cell_type": "code",
      "source": [
        "train = pd.read_csv('/content/drive/MyDrive/Colab_Notebooks/GTA/data/rename/WADI_14days_colab.csv', index_col = [0])\n",
        "test = pd.read_csv('/content/drive/MyDrive/Colab_Notebooks/GTA/data/rename/WADI_attackdata_colab.csv', index_col = [0])"
      ],
      "metadata": {
        "id": "fb50UtrPGywN"
      },
      "execution_count": 15,
      "outputs": []
    },
    {
      "cell_type": "code",
      "source": [
        "x_train = train.drop('Timestamp', axis=1)\n",
        "x_test = pd.DataFrame(np.ones(len(x_train)))"
      ],
      "metadata": {
        "id": "Vmz0u5SvGypA"
      },
      "execution_count": 33,
      "outputs": []
    },
    {
      "cell_type": "code",
      "source": [
        "y_train = test.drop(['Timestamp','label'],axis=1)\n",
        "y_test = pd.DataFrame(test['label'])"
      ],
      "metadata": {
        "id": "qATrWNfKQz1r"
      },
      "execution_count": 37,
      "outputs": []
    },
    {
      "cell_type": "code",
      "source": [
        "# x_train, y_train, x_test, y_test = lstm_enc_dec_axl().data()"
      ],
      "metadata": {
        "id": "SG1xyyIzRdyf"
      },
      "execution_count": 42,
      "outputs": []
    },
    {
      "cell_type": "code",
      "source": [
        "model = lstm_enc_dec_axl.LSTMED(num_epochs=20,batch_size=5000,lr=0.001, hidden_size=16)"
      ],
      "metadata": {
        "id": "ww5tJKmNRduJ"
      },
      "execution_count": 261,
      "outputs": []
    },
    {
      "cell_type": "code",
      "source": [
        "train = x_train.set_index('1_AIT_001_PV')"
      ],
      "metadata": {
        "id": "8CzIiuuSkH0a"
      },
      "execution_count": 262,
      "outputs": []
    },
    {
      "cell_type": "code",
      "source": [
        "# model.fit(x_train)\n",
        "model.fit(train)"
      ],
      "metadata": {
        "colab": {
          "base_uri": "https://localhost:8080/"
        },
        "id": "Hj8RJWeDRdoY",
        "outputId": "03878a8a-7533-40bb-b90a-79e6e3129ff8"
      },
      "execution_count": 263,
      "outputs": [
        {
          "output_type": "stream",
          "name": "stderr",
          "text": [
            "\r  0%|          | 0/20 [00:00<?, ?it/s]/usr/local/lib/python3.7/dist-packages/torch/nn/_reduction.py:42: UserWarning: size_average and reduce args will be deprecated, please use reduction='sum' instead.\n",
            "  warnings.warn(warning.format(ret))\n",
            "100%|██████████| 20/20 [27:36<00:00, 82.84s/it]\n",
            "/usr/local/lib/python3.7/dist-packages/torch/nn/_reduction.py:42: UserWarning: size_average and reduce args will be deprecated, please use reduction='none' instead.\n",
            "  warnings.warn(warning.format(ret))\n"
          ]
        }
      ]
    },
    {
      "cell_type": "code",
      "source": [
        "test = y_train.set_index('1_AIT_001_PV')"
      ],
      "metadata": {
        "id": "32FYTJXOppyS"
      },
      "execution_count": 189,
      "outputs": []
    },
    {
      "cell_type": "code",
      "source": [
        "score = model.predict(test)"
      ],
      "metadata": {
        "colab": {
          "base_uri": "https://localhost:8080/"
        },
        "id": "8SiI1NUwSVBe",
        "outputId": "44561d2c-23af-4e60-c740-2a4f70501348"
      },
      "execution_count": 265,
      "outputs": [
        {
          "output_type": "stream",
          "name": "stderr",
          "text": [
            "/usr/local/lib/python3.7/dist-packages/torch/nn/_reduction.py:42: UserWarning: size_average and reduce args will be deprecated, please use reduction='none' instead.\n",
            "  warnings.warn(warning.format(ret))\n"
          ]
        }
      ]
    },
    {
      "cell_type": "code",
      "source": [
        "print(roc_auc_score(y_test, score))"
      ],
      "metadata": {
        "colab": {
          "base_uri": "https://localhost:8080/"
        },
        "id": "DuIW__gqXpw2",
        "outputId": "b294dc3a-9c5c-4e78-8c2e-462bebc9d374"
      },
      "execution_count": 300,
      "outputs": [
        {
          "output_type": "stream",
          "name": "stdout",
          "text": [
            "0.4935744257805826\n"
          ]
        }
      ]
    },
    {
      "cell_type": "code",
      "source": [
        "y_test.value_counts()"
      ],
      "metadata": {
        "colab": {
          "base_uri": "https://localhost:8080/"
        },
        "id": "YxSrxRN8ddf9",
        "outputId": "1691b7d5-33ce-4981-a80c-b99e8a4d4097"
      },
      "execution_count": 301,
      "outputs": [
        {
          "output_type": "execute_result",
          "data": {
            "text/plain": [
              "label\n",
              " 1       162824\n",
              "-1         9977\n",
              "dtype: int64"
            ]
          },
          "metadata": {},
          "execution_count": 301
        }
      ]
    },
    {
      "cell_type": "code",
      "source": [
        "def binarize(score, threshold=None):\n",
        "        threshold = threshold if threshold is not None else threshold(score)\n",
        "        score = np.where(np.isnan(score), np.nanmin(score) - sys.float_info.epsilon, score)\n",
        "        return np.where(score >= threshold,1, -1)\n",
        "def threshold(score):\n",
        "        return np.nanmean(score) + 2 * np.nanstd(score)"
      ],
      "metadata": {
        "id": "eYPURrHXdhXM"
      },
      "execution_count": 829,
      "outputs": []
    },
    {
      "cell_type": "code",
      "source": [
        "thres = threshold(score)\n",
        "# output = binarize(score, thres)\n",
        "output = binarize(score, 500)"
      ],
      "metadata": {
        "id": "948sHmQUd17z"
      },
      "execution_count": 845,
      "outputs": []
    },
    {
      "cell_type": "code",
      "source": [
        "pd.DataFrame(output).value_counts()"
      ],
      "metadata": {
        "colab": {
          "base_uri": "https://localhost:8080/"
        },
        "id": "DXo9A6nRI-C6",
        "outputId": "65c43483-dc28-4b2b-d1d9-3a1a761e7de0"
      },
      "execution_count": 846,
      "outputs": [
        {
          "output_type": "execute_result",
          "data": {
            "text/plain": [
              " 1    95890\n",
              "-1    76911\n",
              "dtype: int64"
            ]
          },
          "metadata": {},
          "execution_count": 846
        }
      ]
    },
    {
      "cell_type": "code",
      "source": [
        "from sklearn.metrics import precision_score, recall_score, f1_score, accuracy_score, confusion_matrix\n",
        "print(f1_score(y_test, output))\n",
        "print(recall_score(y_test, output))\n",
        "print(confusion_matrix(y_test, output))"
      ],
      "metadata": {
        "colab": {
          "base_uri": "https://localhost:8080/"
        },
        "id": "t1zHis7qZ8ii",
        "outputId": "82574f06-c3e4-4d9f-d183-68b4688e327b"
      },
      "execution_count": 847,
      "outputs": [
        {
          "output_type": "stream",
          "name": "stdout",
          "text": [
            "0.7007429052931037\n",
            "0.5567115412961234\n",
            "[[ 4733  5244]\n",
            " [72178 90646]]\n"
          ]
        }
      ]
    },
    {
      "cell_type": "code",
      "source": [
        "pd.DataFrame(output).to_csv('/content/drive/MyDrive/Colab_Notebooks/DeepADoTS/result/LSTM-ED_num_epochs=20,batch_size=5000,lr=0.001, hidden_size=16_threshold=500.csv')"
      ],
      "metadata": {
        "id": "vr0dshP8On8r"
      },
      "execution_count": 848,
      "outputs": []
    },
    {
      "cell_type": "code",
      "source": [
        "from src.evaluation import Evaluator\n",
        "def get_metrics_by_thresholds(y_test: list, score: list, thresholds: list):\n",
        "        for threshold in thresholds:\n",
        "            anomaly = binarize(score, threshold=threshold)\n",
        "            metrics = Evaluator.get_accuracy_precision_recall_fscore(y_test, anomaly)\n",
        "            yield (anomaly.sum(), *metrics)\n",
        "\n",
        "def get_optimal_threshold(y_test, score, steps=1000, return_metrics=False):\n",
        "        maximum = np.nanmax(score)\n",
        "        minimum = np.nanmin(score)\n",
        "        threshold = np.linspace(minimum, maximum, steps)\n",
        "        metrics = list(get_metrics_by_thresholds(y_test, score, threshold))\n",
        "        metrics = np.array(metrics).T\n",
        "        anomalies, acc, prec, rec, f_score, f01_score = metrics\n",
        "        if return_metrics:\n",
        "            return anomalies, acc, prec, rec, f_score, f01_score, threshold\n",
        "        else:\n",
        "            return threshold[np.argmax(f_score)]"
      ],
      "metadata": {
        "id": "Hgd7qZKNg0or"
      },
      "execution_count": 722,
      "outputs": []
    },
    {
      "cell_type": "code",
      "source": [
        "# anomalies, acc, prec, rec, f_score, f01_score, threshold = get_optimal_threshold(y_test,score,return_metrics=True)\n",
        "thr = get_optimal_threshold(y_test, score)"
      ],
      "metadata": {
        "id": "SFE-VaU9hf9M"
      },
      "execution_count": 723,
      "outputs": []
    },
    {
      "cell_type": "code",
      "source": [
        "thr"
      ],
      "metadata": {
        "colab": {
          "base_uri": "https://localhost:8080/"
        },
        "id": "jT_p41gFFwTT",
        "outputId": "0d8cbae2-342b-47eb-ce52-3c5a61d36de1"
      },
      "execution_count": 724,
      "outputs": [
        {
          "output_type": "execute_result",
          "data": {
            "text/plain": [
              "1283948928.481919"
            ]
          },
          "metadata": {},
          "execution_count": 724
        }
      ]
    },
    {
      "cell_type": "code",
      "source": [
        "thres"
      ],
      "metadata": {
        "colab": {
          "base_uri": "https://localhost:8080/"
        },
        "id": "2mMC7twJHvtj",
        "outputId": "2fc21c8e-2337-4e05-e94b-8134cbe0d846"
      },
      "execution_count": 525,
      "outputs": [
        {
          "output_type": "execute_result",
          "data": {
            "text/plain": [
              "1970676089.9390702"
            ]
          },
          "metadata": {},
          "execution_count": 525
        }
      ]
    },
    {
      "cell_type": "code",
      "source": [
        "thres = threshold(score)\n",
        "# output = binarize(score, thres)\n",
        "output = binarize(score, 1000)"
      ],
      "metadata": {
        "id": "OX3HPsWQEX6r"
      },
      "execution_count": 521,
      "outputs": []
    },
    {
      "cell_type": "code",
      "source": [
        "pd.DataFrame(output).value_counts()"
      ],
      "metadata": {
        "colab": {
          "base_uri": "https://localhost:8080/"
        },
        "id": "VGSzXAs2FAyX",
        "outputId": "b49bc53f-2d53-4b9e-a62c-e3eba8404c1b"
      },
      "execution_count": 522,
      "outputs": [
        {
          "output_type": "execute_result",
          "data": {
            "text/plain": [
              " 1    95096\n",
              "-1    77705\n",
              "dtype: int64"
            ]
          },
          "metadata": {},
          "execution_count": 522
        }
      ]
    },
    {
      "cell_type": "code",
      "source": [
        "pd.DataFrame(y_test).value_counts()"
      ],
      "metadata": {
        "colab": {
          "base_uri": "https://localhost:8080/"
        },
        "id": "PrH4ynS7FheD",
        "outputId": "37d74ee0-9bf3-46c9-f4bb-a54e6cc91d89"
      },
      "execution_count": 523,
      "outputs": [
        {
          "output_type": "execute_result",
          "data": {
            "text/plain": [
              "label\n",
              " 1       162824\n",
              "-1         9977\n",
              "dtype: int64"
            ]
          },
          "metadata": {},
          "execution_count": 523
        }
      ]
    },
    {
      "cell_type": "code",
      "source": [
        "from sklearn.metrics import precision_score, recall_score, f1_score, accuracy_score, confusion_matrix\n",
        "print(f1_score(y_test, output))\n",
        "print(recall_score(y_test, output))\n",
        "print(precision_score(y_test, output))\n",
        "print(accuracy_score(y_test, output))\n",
        "print(confusion_matrix(y_test, output))"
      ],
      "metadata": {
        "colab": {
          "base_uri": "https://localhost:8080/"
        },
        "id": "yVltgANYEX38",
        "outputId": "64f0b1c6-548f-483d-c1e8-c6cea073e7f6"
      },
      "execution_count": 524,
      "outputs": [
        {
          "output_type": "stream",
          "name": "stdout",
          "text": [
            "0.7013259925558314\n",
            "0.5554647963445193\n",
            "0.9510704971817953\n",
            "0.5542039687270328\n",
            "[[ 5324  4653]\n",
            " [72381 90443]]\n"
          ]
        }
      ]
    },
    {
      "cell_type": "code",
      "source": [
        "y_test.value_counts()"
      ],
      "metadata": {
        "colab": {
          "base_uri": "https://localhost:8080/"
        },
        "id": "Cq19dUexiiCs",
        "outputId": "0f6e9c34-1d70-4dbe-f29a-9a80daf5de0a"
      },
      "execution_count": 241,
      "outputs": [
        {
          "output_type": "execute_result",
          "data": {
            "text/plain": [
              "label\n",
              " 1       162824\n",
              "-1         9977\n",
              "dtype: int64"
            ]
          },
          "metadata": {},
          "execution_count": 241
        }
      ]
    },
    {
      "cell_type": "code",
      "source": [
        "pd.DataFrame(anomaly)"
      ],
      "metadata": {
        "colab": {
          "base_uri": "https://localhost:8080/"
        },
        "id": "yReYsmwVCZLa",
        "outputId": "98572180-4ade-492d-cefc-3b3b11892b17"
      },
      "execution_count": 298,
      "outputs": [
        {
          "output_type": "execute_result",
          "data": {
            "text/plain": [
              " 1    172800\n",
              "-1         1\n",
              "dtype: int64"
            ]
          },
          "metadata": {},
          "execution_count": 298
        }
      ]
    },
    {
      "cell_type": "code",
      "source": [
        "binar = binarize(score, thr)"
      ],
      "metadata": {
        "id": "qn0GeAciis1j"
      },
      "execution_count": 286,
      "outputs": []
    },
    {
      "cell_type": "code",
      "source": [
        "pd.DataFrame(binar).value_counts()"
      ],
      "metadata": {
        "colab": {
          "base_uri": "https://localhost:8080/"
        },
        "id": "q0f-9UV3i440",
        "outputId": "1a3a590b-ed13-4dba-a5a3-ff1afdc28698"
      },
      "execution_count": 287,
      "outputs": [
        {
          "output_type": "execute_result",
          "data": {
            "text/plain": [
              " 1    172800\n",
              "-1         1\n",
              "dtype: int64"
            ]
          },
          "metadata": {},
          "execution_count": 287
        }
      ]
    }
  ]
}